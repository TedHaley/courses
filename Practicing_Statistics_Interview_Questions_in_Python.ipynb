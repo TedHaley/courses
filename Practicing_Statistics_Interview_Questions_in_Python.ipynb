{
  "nbformat": 4,
  "nbformat_minor": 0,
  "metadata": {
    "colab": {
      "name": "Practicing-Statistics-Interview-Questions-in-Python.ipynb",
      "provenance": [],
      "collapsed_sections": [],
      "authorship_tag": "ABX9TyMMeoZD4jUE0Vs80lESV5PE",
      "include_colab_link": true
    },
    "kernelspec": {
      "name": "python3",
      "display_name": "Python 3"
    }
  },
  "cells": [
    {
      "cell_type": "markdown",
      "metadata": {
        "id": "view-in-github",
        "colab_type": "text"
      },
      "source": [
        "<a href=\"https://colab.research.google.com/github/TedHaley/courses/blob/master/Practicing_Statistics_Interview_Questions_in_Python.ipynb\" target=\"_parent\"><img src=\"https://colab.research.google.com/assets/colab-badge.svg\" alt=\"Open In Colab\"/></a>"
      ]
    },
    {
      "cell_type": "code",
      "metadata": {
        "id": "mrr1eoOyknXj",
        "colab_type": "code",
        "outputId": "9743474e-c971-4d47-fa42-c2825df2a038",
        "colab": {
          "base_uri": "https://localhost:8080/",
          "height": 54
        }
      },
      "source": [
        "# Conditional Probabilities\n",
        "\n",
        "'''\n",
        "Rule of Addition:\tP(A∪B) = P(A) + P(B) – P(A∩B)\n",
        "Independent Events:\tP(A∩B) = P(A) ⋅ P(B)\n",
        "Conditional Probability:\tP(A | B) = P(A∩B) / P(B)\n",
        "Bayes Formula:\tP(A | B) = P(B | A) ⋅ P(A) / P(B)\n",
        "\n",
        "    stats       coding\n",
        "\n",
        "    pass   / pass (0.4)  \n",
        "    0.25  /\n",
        "          \\\n",
        "           \\ Fail (0.6)\n",
        "\n",
        "\n",
        "\n",
        "    fail   / pass (0.2)  \n",
        "    0.75  /\n",
        "          \\\n",
        "           \\ Fail (0.8)\n",
        "\n",
        "\n",
        "P(pass stats and coding) = 0.25 * 0.4 = 0.1\n",
        "\n",
        "P(pass coding) = (0.75 * 0.2) + (0.25 * 0.4) = 0.25\n",
        "\n",
        "P(pass stats | pass coding) = P(pass stats and coding) / P(pass coding) = 0.1 / 0.25 = 0.4\n",
        "'''"
      ],
      "execution_count": 2,
      "outputs": [
        {
          "output_type": "execute_result",
          "data": {
            "text/plain": [
              "'\\nRule of Addition:\\tP(A∪B) = P(A) + P(B) – P(A∩B)\\nIndependent Events:\\tP(A∩B) = P(A) ⋅ P(B)\\nConditional Probability:\\tP(A | B) = P(A∩B) / P(B)\\nBayes Formula:\\tP(A | B) = P(B | A) ⋅ P(A) / P(B)\\n\\n    stats       coding\\n\\n    pass   / pass (0.4)  \\n    0.25  /\\n                     \\\\ Fail (0.6)\\n\\n\\n\\n    fail   / pass (0.2)  \\n    0.75  /\\n                     \\\\ Fail (0.8)\\n\\n\\nP(pass stats and coding) = 0.25 * 0.4 = 0.1\\n\\nP(pass coding) = (0.75 * 0.2) + (0.25 * 0.4) = 0.25\\n\\nP(pass stats | pass coding) = P(pass stats and coding) / P(pass coding) = 0.1 / 0.25 = 0.4\\n'"
            ]
          },
          "metadata": {
            "tags": []
          },
          "execution_count": 2
        }
      ]
    },
    {
      "cell_type": "code",
      "metadata": {
        "id": "TnYydfXdkyoQ",
        "colab_type": "code",
        "outputId": "ac914d2e-3c80-44af-a941-9481f2629684",
        "colab": {
          "base_uri": "https://localhost:8080/",
          "height": 54
        }
      },
      "source": [
        "'''\n",
        "You're testing for a disease and advertising that the test is 99% accurate; \n",
        "that is if you have the disease, you will test positive 99% of the time, \n",
        "and if you don't have the disease, you will test negative 99% of the time. \n",
        "Let's say that 1% of all people have the disease and someone tests positive. \n",
        "What's the probability that the person has the disease? Select the correct \n",
        "set up for this problem.\n",
        "\n",
        "    Disease    Test\n",
        "\n",
        "    Yes    / pos (0.99)  \n",
        "    0.01  /\n",
        "          \\\n",
        "           \\ neg (0.01)\n",
        "\n",
        "\n",
        "\n",
        "    No     / pos (0.01)  \n",
        "    0.99  /\n",
        "          \\\n",
        "           \\ neg (0.99)\n",
        "\n",
        "Conditional Probability:\tP(A | B) = P(A∩B) / P(B)\n",
        "P(yes disease | pos test) = P(yes disease ∩ pos test) / P(pos test)\n",
        "P(yes disease ∩ pos test) = P(yes disease) * P(pos test) = 0.01 * 0.99\n",
        "P(pos test) = (P(yes disease) * P(pos test)) + (P(no disease) * P(pos test))\n",
        "            = ((0.01 * 0.99) + (0.99 * 0.01))\n",
        "\n",
        "P(yes disease | pos test) = (0.99 * 0.01) / ((0.01 * 0.99) + (0.99 * 0.01))\n",
        "                          = \n",
        "'''"
      ],
      "execution_count": 3,
      "outputs": [
        {
          "output_type": "execute_result",
          "data": {
            "text/plain": [
              "\"\\nYou're testing for a disease and advertising that the test is 99% accurate; \\nthat is if you have the disease, you will test positive 99% of the time, \\nand if you don't have the disease, you will test negative 99% of the time. \\nLet's say that 1% of all people have the disease and someone tests positive. \\nWhat's the probability that the person has the disease? Select the correct \\nset up for this problem.\\n\\n    Disease    Test\\n\\n    Yes    / pos (0.99)  \\n    0.01  /\\n                     \\\\ neg (0.01)\\n\\n\\n\\n    No     / pos (0.01)  \\n    0.99  /\\n                     \\\\ neg (0.99)\\n\\nConditional Probability:\\tP(A | B) = P(A∩B) / P(B)\\nP(yes disease | pos test) = P(yes disease ∩ pos test) / P(pos test)\\nP(yes disease ∩ pos test) = P(yes disease) * P(pos test) = 0.01 * 0.99\\nP(pos test) = (P(yes disease) * P(pos test)) + (P(no disease) * P(pos test))\\n            = ((0.01 * 0.99) + (0.99 * 0.01))\\n\\nP(yes disease | pos test) = (0.99 * 0.01) / ((0.01 * 0.99) + (0.99 * 0.01))\\n                          = \\n\""
            ]
          },
          "metadata": {
            "tags": []
          },
          "execution_count": 3
        }
      ]
    },
    {
      "cell_type": "code",
      "metadata": {
        "id": "IkTDfrMBj0A7",
        "colab_type": "code",
        "outputId": "1af2bd4f-6d27-429c-caff-5cf0c3ad81b3",
        "colab": {
          "base_uri": "https://localhost:8080/",
          "height": 54
        }
      },
      "source": [
        "# Coin flip\n",
        "'''\n",
        "Let's actually solve out a pretty straightforward, yet typical Bayes' theorem \n",
        "interview problem. You have two coins in your hand. Out of the two coins, one \n",
        "is a real coin (heads and tails) and the other is a faulty coin with tails \n",
        "on both sides.\n",
        "\n",
        "You are blindfolded and forced to choose a random coin and then toss it in the \n",
        "air. The coin lands with tails facing upwards. Find the probability that this \n",
        "is the faulty coin.\n",
        "\n",
        "T H -> true coin\n",
        "T T -> faulty coin\n",
        "\n",
        "P(tails) = 3 / 4 = 0.75\n",
        "P(faulty) = 2 / 4 = 1 / 2 = 0.5\n",
        "P(tails and faulty) = 0.75 * 0.5 = 0.375\n",
        "\n",
        "Bayes Formula:\tP(A | B) = P(B | A) ⋅ P(A) / P(B)\n",
        "P(faulty | tails) =  P(tails | faulty) * P(faulty) / P(tails)\n",
        "P(faulty | tails) = 1 * 0.5 / 0.75 = 0.66666\n",
        "'''"
      ],
      "execution_count": 4,
      "outputs": [
        {
          "output_type": "execute_result",
          "data": {
            "text/plain": [
              "\"\\nLet's actually solve out a pretty straightforward, yet typical Bayes' theorem \\ninterview problem. You have two coins in your hand. Out of the two coins, one \\nis a real coin (heads and tails) and the other is a faulty coin with tails \\non both sides.\\n\\nYou are blindfolded and forced to choose a random coin and then toss it in the \\nair. The coin lands with tails facing upwards. Find the probability that this \\nis the faulty coin.\\n\\nT H -> true coin\\nT T -> faulty coin\\n\\nP(tails) = 3 / 4 = 0.75\\nP(faulty) = 2 / 4 = 1 / 2 = 0.5\\nP(tails and faulty) = 0.75 * 0.5 = 0.375\\n\\nBayes Formula:\\tP(A | B) = P(B | A) ⋅ P(A) / P(B)\\nP(faulty | tails) =  P(tails | faulty) * P(faulty) / P(tails)\\nP(faulty | tails) = 1 * 0.5 / 0.75 = 0.66666\\n\""
            ]
          },
          "metadata": {
            "tags": []
          },
          "execution_count": 4
        }
      ]
    },
    {
      "cell_type": "code",
      "metadata": {
        "id": "YOkMGevvozXG",
        "colab_type": "code",
        "outputId": "e6623f38-3e5f-4df3-cce3-913e3bee2e4a",
        "colab": {
          "base_uri": "https://localhost:8080/",
          "height": 54
        }
      },
      "source": [
        "'''\n",
        "Central Limit Theorem\n",
        "With a large enough collection of samples from the same population, the sample \n",
        "means will be noramlly distributed. This does not make any underlying \n",
        "assumptions about the distributions of the data. With a population above 30, we\n",
        "can expect our distribution to be normal.\n",
        "\n",
        "Law of large numbers\n",
        "As the size of a sample is increased, the sample mean will better reflect the \n",
        "population mean (duh).\n",
        "\n",
        "E.g.: small samples can have crazy distributions because of outliers. \n",
        "'''\n"
      ],
      "execution_count": 5,
      "outputs": [
        {
          "output_type": "execute_result",
          "data": {
            "text/plain": [
              "'\\nCentral Limit Theorem\\nWith a large enough collection of samples from the same population, the sample \\nmeans will be noramlly distributed. This does not make any underlying \\nassumptions about the distributions of the data. With a population above 30, we\\ncan expect our distribution to be normal.\\n\\nLaw of large numbers\\nAs the size of a sample is increased, the sample mean will better reflect the \\npopulation mean (duh).\\n\\nE.g.: small samples can have crazy distributions because of outliers. \\n'"
            ]
          },
          "metadata": {
            "tags": []
          },
          "execution_count": 5
        }
      ]
    },
    {
      "cell_type": "code",
      "metadata": {
        "id": "H09VN2IBqe7Z",
        "colab_type": "code",
        "outputId": "fc1aa15a-192a-4ba1-a4ac-ac880572fff3",
        "colab": {
          "base_uri": "https://localhost:8080/",
          "height": 51
        }
      },
      "source": [
        "# Samples of a rolled die\n",
        "from numpy.random import randint # discrete sides of a die\n",
        "import numpy as np\n",
        "\n",
        "# Create a sample of 10 die rolls\n",
        "small = randint(low=1, high=7, size=10)\n",
        "\n",
        "# Calculate and print the mean of the sample\n",
        "small_mean = np.mean(small)\n",
        "print(small_mean)\n",
        "\n",
        "# Create a sample of 1000 die rolls\n",
        "large = randint(low=1, high=7, size=1000)\n",
        "\n",
        "# Calculate and print the mean of the large sample\n",
        "large_mean = np.mean(large)\n",
        "print(large_mean)\n",
        "\n",
        "# This is an example of the law of large numbers as the mean approaches the\n",
        "# true population mean of 3.5"
      ],
      "execution_count": 6,
      "outputs": [
        {
          "output_type": "stream",
          "text": [
            "3.2\n",
            "3.525\n"
          ],
          "name": "stdout"
        }
      ]
    },
    {
      "cell_type": "code",
      "metadata": {
        "id": "mS7AqM5txJeH",
        "colab_type": "code",
        "outputId": "299d1cdd-830d-4213-e63b-1758785f3029",
        "colab": {
          "base_uri": "https://localhost:8080/",
          "height": 265
        }
      },
      "source": [
        "# 1000 samples from a population\n",
        "from numpy.random import randint\n",
        "import matplotlib.pyplot as plt\n",
        "\n",
        "# Create a list of 1000 sample means of size 30\n",
        "means = [randint(1, 7, 30).mean() for i in range(1000)]\n",
        "\n",
        "# Create and show a histogram of the means\n",
        "plt.hist(means)\n",
        "plt.show()"
      ],
      "execution_count": 7,
      "outputs": [
        {
          "output_type": "display_data",
          "data": {
            "image/png": "[encoded data removed]",
            "text/plain": [
              "<Figure size 432x288 with 1 Axes>"
            ]
          },
          "metadata": {
            "tags": []
          }
        }
      ]
    },
    {
      "cell_type": "code",
      "metadata": {
        "id": "ZjP_YL-HX6FG",
        "colab_type": "code",
        "outputId": "6bfb4bf0-2e9d-4f45-ad2c-1f5e1d156427",
        "colab": {
          "base_uri": "https://localhost:8080/",
          "height": 265
        }
      },
      "source": [
        "# 100 samples from a population\n",
        "from numpy.random import randint\n",
        "\n",
        "# Adapt code for 100 samples of size 30\n",
        "means = [randint(1, 7, 30).mean() for i in range(100)]\n",
        "\n",
        "# Create and show a histogram of the means\n",
        "plt.hist(means)\n",
        "plt.show()"
      ],
      "execution_count": 8,
      "outputs": [
        {
          "output_type": "display_data",
          "data": {
            "image/png": "[encoded data removed]",
            "text/plain": [
              "<Figure size 432x288 with 1 Axes>"
            ]
          },
          "metadata": {
            "tags": []
          }
        }
      ]
    },
    {
      "cell_type": "code",
      "metadata": {
        "id": "126H2g7FYF5W",
        "colab_type": "code",
        "colab": {
          "base_uri": "https://localhost:8080/",
          "height": 54
        },
        "outputId": "e546634d-4bbe-492e-83b9-1d26fb022460"
      },
      "source": [
        "'''\n",
        "Probability Distributions\n",
        "Describes the likelihood of an outcome.\n",
        "\n",
        "Normal\n",
        "Bellcurve. \n",
        "68% -> within 1 std of mean\n",
        "95% -> within 2 std of mean\n",
        "99.7% -> within 3 std of mean\n",
        "\n",
        "Bernoulli\n",
        "Discrete distribution that models the probability of two outcomes. Ex: Coin flip\n",
        "Since there are only two outcomes in a bernoulli distribution, the probability\n",
        "of the outcomes is always p2 = 1 - p1.\n",
        "\n",
        "Binomial\n",
        "Can be thought of the sum of outcomes for multiple bernoulli trials.\n",
        "k = number of successes\n",
        "n = number of trials\n",
        "p = probability of success\n",
        "\n",
        "Poisson\n",
        "Represents the number of times something happened. Is represnted by rate\n",
        "lambda. Useful for counting events over time, given some rate.\n",
        "'''"
      ],
      "execution_count": 9,
      "outputs": [
        {
          "output_type": "execute_result",
          "data": {
            "text/plain": [
              "'\\nProbability Distributions\\nDescribes the likelihood of an outcome.\\n\\nNormal\\nBellcurve. \\n68% -> within 1 std of mean\\n95% -> within 2 std of mean\\n99.7% -> within 3 std of mean\\n\\nBernoulli\\nDiscrete distribution that models the probability of two outcomes. Ex: Coin flip\\nSince there are only two outcomes in a bernoulli distribution, the probability\\nof the outcomes is always p2 = 1 - p1.\\n\\nBinomial\\nCan be thought of the sum of outcomes for multiple bernoulli trials.\\nk = number of successes\\nn = number of trials\\np = probability of success\\n\\nPoisson\\nRepresents the number of times something happened. Is represnted by rate\\nlambda. Useful for counting events over time, given some rate.\\n'"
            ]
          },
          "metadata": {
            "tags": []
          },
          "execution_count": 9
        }
      ]
    },
    {
      "cell_type": "code",
      "metadata": {
        "id": "szQMw7eUabLV",
        "colab_type": "code",
        "outputId": "0f432a04-004e-4372-9b14-2c862aef8216",
        "colab": {
          "base_uri": "https://localhost:8080/",
          "height": 265
        }
      },
      "source": [
        "# Bernoulli distribution\n",
        "# Generate bernoulli data for a coin flip\n",
        "from scipy.stats import bernoulli\n",
        "data = bernoulli.rvs(p=0.5, size=1000)\n",
        "\n",
        "# Plot distribution\n",
        "plt.hist(data)\n",
        "plt.show()"
      ],
      "execution_count": 10,
      "outputs": [
        {
          "output_type": "display_data",
          "data": {
            "image/png": "[encoded data removed]",
            "text/plain": [
              "<Figure size 432x288 with 1 Axes>"
            ]
          },
          "metadata": {
            "tags": []
          }
        }
      ]
    },
    {
      "cell_type": "code",
      "metadata": {
        "id": "e-KR7fPsf8Rv",
        "colab_type": "code",
        "outputId": "832fc01a-f095-40df-ec83-8065f296c951",
        "colab": {
          "base_uri": "https://localhost:8080/",
          "height": 299
        }
      },
      "source": [
        "'''\n",
        "For this exercise, consider a game where you are trying to make a ball in a \n",
        "basket. You are given 10 shots and you know that you have an 80% chance of \n",
        "making a given shot. To simplify things, assume each shot is an independent \n",
        "event.\n",
        "'''\n",
        "# Generate binomial data\n",
        "from scipy.stats import binom\n",
        "data = binom.rvs(n=10, p=0.8, size=1000)\n",
        "\n",
        "# Plot the distribution\n",
        "plt.hist(data)\n",
        "plt.show()\n",
        "\n",
        "# Assign and print probability of 8 or less successes\n",
        "prob1 = binom.cdf(k=8, n=10, p=0.8)\n",
        "print(prob1)\n",
        "\n",
        "# Assign and print probability of all 10 successes\n",
        "prob2 = binom.pmf(k=10, n=10, p=0.8)\n",
        "print(prob2)\n"
      ],
      "execution_count": 11,
      "outputs": [
        {
          "output_type": "display_data",
          "data": {
            "image/png": "[encoded data removed]",
            "text/plain": [
              "<Figure size 432x288 with 1 Axes>"
            ]
          },
          "metadata": {
            "tags": []
          }
        },
        {
          "output_type": "stream",
          "text": [
            "0.6241903616\n",
            "0.10737418240000005\n"
          ],
          "name": "stdout"
        }
      ]
    },
    {
      "cell_type": "code",
      "metadata": {
        "id": "5XCLhniUgpG6",
        "colab_type": "code",
        "outputId": "1390d548-9e86-4db0-b061-dc0ad2d8bd8c",
        "colab": {
          "base_uri": "https://localhost:8080/",
          "height": 299
        }
      },
      "source": [
        "# Generate normal data\n",
        "from scipy.stats import norm\n",
        "data = norm.rvs(size=1000)\n",
        "\n",
        "# Plot distribution\n",
        "plt.hist(data)\n",
        "plt.show()\n",
        "\n",
        "# Compute and print true probability for greater than 2\n",
        "true_prob = 1 - norm.cdf(2)\n",
        "print(true_prob)\n",
        "\n",
        "# Compute and print sample probability for greater than 2\n",
        "sample_prob = sum(obs > 2 for obs in data) / len(data)\n",
        "print(sample_prob)"
      ],
      "execution_count": 12,
      "outputs": [
        {
          "output_type": "display_data",
          "data": {
            "image/png": "[encoded data removed]",
            "text/plain": [
              "<Figure size 432x288 with 1 Axes>"
            ]
          },
          "metadata": {
            "tags": []
          }
        },
        {
          "output_type": "stream",
          "text": [
            "0.02275013194817921\n",
            "0.024\n"
          ],
          "name": "stdout"
        }
      ]
    },
    {
      "cell_type": "code",
      "metadata": {
        "id": "GNZmwepdo5df",
        "colab_type": "code",
        "colab": {
          "base_uri": "https://localhost:8080/",
          "height": 54
        },
        "outputId": "e76e094b-6d14-43bb-98fa-efed389c3c87"
      },
      "source": [
        "# Descriptive statistics\n",
        "'''\n",
        "Measures of centrality\n",
        "Measure of how central the data is\n",
        "\n",
        "mean\n",
        "Average. Sum divided by the number of observations\n",
        "\n",
        "mode\n",
        "The mode common observation\n",
        "\n",
        "median\n",
        "The middle value when values are sorted\n",
        "\n",
        "If a distribution is perfectly symetrical, these statistics are the same.\n",
        "If the distribution is skewed, these statistics are no longer the same.\n",
        "'''"
      ],
      "execution_count": 13,
      "outputs": [
        {
          "output_type": "execute_result",
          "data": {
            "text/plain": [
              "'\\nMeasures of centrality\\nMeasure of how central the data is\\n\\nmean\\nAverage. Sum divided by the number of observations\\n\\nmode\\nThe mode common observation\\n\\nmedian\\nThe middle value when values are sorted\\n\\nIf a distribution is perfectly symetrical, these statistics are the same.\\nIf the distribution is skewed, these statistics are no longer the same.\\n'"
            ]
          },
          "metadata": {
            "tags": []
          },
          "execution_count": 13
        }
      ]
    },
    {
      "cell_type": "code",
      "metadata": {
        "id": "lxK6ve_yp12M",
        "colab_type": "code",
        "colab": {
          "base_uri": "https://localhost:8080/",
          "height": 54
        },
        "outputId": "77dbbf61-4aca-4e59-cc3a-99a8de560508"
      },
      "source": [
        "'''\n",
        "Measures of variablility\n",
        "Measure of how spread out the data is\n",
        "\n",
        "variance\n",
        "s^2 = (sum(x - mean)^2) / (n - 1)\n",
        "\n",
        "standard deviation\n",
        "s = sqrt((sum(x - mean)^2) / (n - 1))\n",
        "\n",
        "range\n",
        "max - min\n",
        "\n",
        "Modality\n",
        "Number of peaks in distribution\n",
        "\n",
        "Skewness\n",
        "measure of symmetry of the distribution\n",
        "'''"
      ],
      "execution_count": 14,
      "outputs": [
        {
          "output_type": "execute_result",
          "data": {
            "text/plain": [
              "'\\nMeasures of variablility\\nMeasure of how spread out the data is\\n\\nvariance\\ns^2 = (sum(x - mean)^2) / (n - 1)\\n\\nstandard deviation\\ns = sqrt((sum(x - mean)^2) / (n - 1))\\n\\nrange\\nmax - min\\n\\nModality\\nNumber of peaks in distribution\\n\\nSkewness\\nmeasure of symmetry of the distribution\\n'"
            ]
          },
          "metadata": {
            "tags": []
          },
          "execution_count": 14
        }
      ]
    },
    {
      "cell_type": "code",
      "metadata": {
        "id": "-qz57yneq9hU",
        "colab_type": "code",
        "outputId": "a0ea655f-0234-40de-a6d7-96e44716c9b9",
        "colab": {
          "base_uri": "https://localhost:8080/",
          "height": 221
        }
      },
      "source": [
        "import numpy as np\n",
        "import pandas as pd\n",
        "weather = pd.read_csv('/content/sample_data/california_housing_test.csv')\n",
        "print(weather.head())\n",
        "print(weather.columns)"
      ],
      "execution_count": 15,
      "outputs": [
        {
          "output_type": "stream",
          "text": [
            "   longitude  latitude  ...  median_income  median_house_value\n",
            "0    -122.05     37.37  ...         6.6085            344700.0\n",
            "1    -118.30     34.26  ...         3.5990            176500.0\n",
            "2    -117.81     33.78  ...         5.7934            270500.0\n",
            "3    -118.36     33.82  ...         6.1359            330000.0\n",
            "4    -119.67     36.33  ...         2.9375             81700.0\n",
            "\n",
            "[5 rows x 9 columns]\n",
            "Index(['longitude', 'latitude', 'housing_median_age', 'total_rooms',\n",
            "       'total_bedrooms', 'population', 'households', 'median_income',\n",
            "       'median_house_value'],\n",
            "      dtype='object')\n"
          ],
          "name": "stdout"
        }
      ]
    },
    {
      "cell_type": "code",
      "metadata": {
        "id": "PSMXUnrxvsTv",
        "colab_type": "code",
        "outputId": "216b1896-7a2f-44ed-d081-b8c0182adb1c",
        "colab": {
          "base_uri": "https://localhost:8080/",
          "height": 299
        }
      },
      "source": [
        "# Visualize the distribution \n",
        "plt.hist(weather['median_income'])\n",
        "plt.show()\n",
        "\n",
        "# Assign the mean to the variable and print the result\n",
        "mean = np.mean(weather['median_income'])\n",
        "print('Mean:', mean)\n",
        "\n",
        "# Assign the median to the variable and print the result\n",
        "median = np.median(weather['median_income'])\n",
        "print('Median:', median)"
      ],
      "execution_count": 16,
      "outputs": [
        {
          "output_type": "display_data",
          "data": {
            "image/png": "[encoded data removed]",
            "text/plain": [
              "<Figure size 432x288 with 1 Axes>"
            ]
          },
          "metadata": {
            "tags": []
          }
        },
        {
          "output_type": "stream",
          "text": [
            "Mean: 3.807271799999998\n",
            "Median: 3.4871499999999997\n"
          ],
          "name": "stdout"
        }
      ]
    },
    {
      "cell_type": "code",
      "metadata": {
        "id": "oyMo6lWiwua5",
        "colab_type": "code",
        "outputId": "117390c5-4439-48f8-fb5f-1fb57a569370",
        "colab": {
          "base_uri": "https://localhost:8080/",
          "height": 51
        }
      },
      "source": [
        "# Create a sample list\n",
        "import math\n",
        "nums = [1, 2, 3, 4, 5]\n",
        "\n",
        "# Compute the mean of the list\n",
        "mean = sum(nums)/len(nums)\n",
        "\n",
        "# Compute the variance and print the std of the list\n",
        "variance = sum(pow(x - mean, 2) for x in nums) / len(nums)\n",
        "std = math.sqrt(variance)\n",
        "print(std)\n",
        "\n",
        "# Compute and print the actual result from numpy\n",
        "real_std = np.array(nums).std()\n",
        "print(real_std)"
      ],
      "execution_count": 17,
      "outputs": [
        {
          "output_type": "stream",
          "text": [
            "1.4142135623730951\n",
            "1.4142135623730951\n"
          ],
          "name": "stdout"
        }
      ]
    },
    {
      "cell_type": "code",
      "metadata": {
        "id": "X8L2_0xzxpvi",
        "colab_type": "code",
        "outputId": "9adba934-037f-4987-9d92-7f400153a119",
        "colab": {
          "base_uri": "https://localhost:8080/",
          "height": 204
        }
      },
      "source": [
        "from sklearn import datasets\n",
        "\n",
        "data = datasets.load_iris()\n",
        "df = pd.DataFrame(data.data, columns=data.feature_names)\n",
        "df.head()"
      ],
      "execution_count": 18,
      "outputs": [
        {
          "output_type": "execute_result",
          "data": {
            "text/html": [
              "<div>\n",
              "<style scoped>\n",
              "    .dataframe tbody tr th:only-of-type {\n",
              "        vertical-align: middle;\n",
              "    }\n",
              "\n",
              "    .dataframe tbody tr th {\n",
              "        vertical-align: top;\n",
              "    }\n",
              "\n",
              "    .dataframe thead th {\n",
              "        text-align: right;\n",
              "    }\n",
              "</style>\n",
              "<table border=\"1\" class=\"dataframe\">\n",
              "  <thead>\n",
              "    <tr style=\"text-align: right;\">\n",
              "      <th></th>\n",
              "      <th>sepal length (cm)</th>\n",
              "      <th>sepal width (cm)</th>\n",
              "      <th>petal length (cm)</th>\n",
              "      <th>petal width (cm)</th>\n",
              "    </tr>\n",
              "  </thead>\n",
              "  <tbody>\n",
              "    <tr>\n",
              "      <th>0</th>\n",
              "      <td>5.1</td>\n",
              "      <td>3.5</td>\n",
              "      <td>1.4</td>\n",
              "      <td>0.2</td>\n",
              "    </tr>\n",
              "    <tr>\n",
              "      <th>1</th>\n",
              "      <td>4.9</td>\n",
              "      <td>3.0</td>\n",
              "      <td>1.4</td>\n",
              "      <td>0.2</td>\n",
              "    </tr>\n",
              "    <tr>\n",
              "      <th>2</th>\n",
              "      <td>4.7</td>\n",
              "      <td>3.2</td>\n",
              "      <td>1.3</td>\n",
              "      <td>0.2</td>\n",
              "    </tr>\n",
              "    <tr>\n",
              "      <th>3</th>\n",
              "      <td>4.6</td>\n",
              "      <td>3.1</td>\n",
              "      <td>1.5</td>\n",
              "      <td>0.2</td>\n",
              "    </tr>\n",
              "    <tr>\n",
              "      <th>4</th>\n",
              "      <td>5.0</td>\n",
              "      <td>3.6</td>\n",
              "      <td>1.4</td>\n",
              "      <td>0.2</td>\n",
              "    </tr>\n",
              "  </tbody>\n",
              "</table>\n",
              "</div>"
            ],
            "text/plain": [
              "   sepal length (cm)  sepal width (cm)  petal length (cm)  petal width (cm)\n",
              "0                5.1               3.5                1.4               0.2\n",
              "1                4.9               3.0                1.4               0.2\n",
              "2                4.7               3.2                1.3               0.2\n",
              "3                4.6               3.1                1.5               0.2\n",
              "4                5.0               3.6                1.4               0.2"
            ]
          },
          "metadata": {
            "tags": []
          },
          "execution_count": 18
        }
      ]
    },
    {
      "cell_type": "code",
      "metadata": {
        "id": "h6WIyYBeJWtB",
        "colab_type": "code",
        "colab": {
          "base_uri": "https://localhost:8080/",
          "height": 748
        },
        "outputId": "a20b7d6f-8cda-42cb-cce0-cdab5e161c52"
      },
      "source": [
        "import seaborn as sns\n",
        "sns.pairplot(df)\n",
        "plt.show()"
      ],
      "execution_count": 19,
      "outputs": [
        {
          "output_type": "display_data",
          "data": {
            "image/png": "[encoded data removed]",
            "text/plain": [
              "<Figure size 720x720 with 20 Axes>"
            ]
          },
          "metadata": {
            "tags": []
          }
        }
      ]
    },
    {
      "cell_type": "code",
      "metadata": {
        "id": "5S942L3SXeoS",
        "colab_type": "code",
        "colab": {}
      },
      "source": [
        "'''\n",
        "Pearson's correlation (r)\n",
        "r = Cov(x, y) / (std(x) * std(y))\n",
        "r = 1; perfectly positively correlated\n",
        "r = 0; no correlation\n",
        "r = -1; perfectly negatively correlated\n",
        "\n",
        "R-Squared\n",
        "the proportion of the variance for a dependent variable that's explained by \n",
        "an independent variable\n",
        "\n",
        "\n",
        "'''"
      ],
      "execution_count": 0,
      "outputs": []
    },
    {
      "cell_type": "code",
      "metadata": {
        "id": "pcQNGOx3J5GU",
        "colab_type": "code",
        "colab": {
          "base_uri": "https://localhost:8080/",
          "height": 51
        },
        "outputId": "c6c94d54-2308-4598-be17-dd8889051c35"
      },
      "source": [
        "# Pearson correlation\n",
        "r = df['petal length (cm)'].corr(df['petal width (cm)'])\n",
        "print(r)\n",
        "\n",
        "# Calculate the r-squared value and print the result\n",
        "r2 = r**2\n",
        "print(r2)"
      ],
      "execution_count": 27,
      "outputs": [
        {
          "output_type": "stream",
          "text": [
            "0.9628654314027961\n",
            "0.9271098389904927\n"
          ],
          "name": "stdout"
        }
      ]
    },
    {
      "cell_type": "code",
      "metadata": {
        "id": "VN31YCJ2M7u8",
        "colab_type": "code",
        "colab": {}
      },
      "source": [
        "'''\n",
        "We see here that petal length has a strong correlation \n",
        "with petal width, giving us a ~0.96 pearson coefficient. \n",
        "When we square that result, we get a r-squared value of ~0.927, \n",
        "meaning that petal length explains around 92.7% of the variability in the \n",
        "petal width variable.\n",
        "'''"
      ],
      "execution_count": 0,
      "outputs": []
    },
    {
      "cell_type": "code",
      "metadata": {
        "id": "mwmGpe68Lrxv",
        "colab_type": "code",
        "colab": {
          "base_uri": "https://localhost:8080/",
          "height": 221
        },
        "outputId": "ab252f7f-59d1-4e7a-8557-599a81e17d9e"
      },
      "source": [
        "print(df.info())"
      ],
      "execution_count": 24,
      "outputs": [
        {
          "output_type": "stream",
          "text": [
            "<class 'pandas.core.frame.DataFrame'>\n",
            "RangeIndex: 150 entries, 0 to 149\n",
            "Data columns (total 4 columns):\n",
            " #   Column             Non-Null Count  Dtype  \n",
            "---  ------             --------------  -----  \n",
            " 0   sepal length (cm)  150 non-null    float64\n",
            " 1   sepal width (cm)   150 non-null    float64\n",
            " 2   petal length (cm)  150 non-null    float64\n",
            " 3   petal width (cm)   150 non-null    float64\n",
            "dtypes: float64(4)\n",
            "memory usage: 4.8 KB\n",
            "None\n"
          ],
          "name": "stdout"
        }
      ]
    },
    {
      "cell_type": "code",
      "metadata": {
        "id": "b6FL3ubjL24E",
        "colab_type": "code",
        "colab": {
          "base_uri": "https://localhost:8080/",
          "height": 170
        },
        "outputId": "d9721c90-245c-4989-ab96-ea31a2bc1a38"
      },
      "source": [
        "print(df.describe())"
      ],
      "execution_count": 25,
      "outputs": [
        {
          "output_type": "stream",
          "text": [
            "       sepal length (cm)  sepal width (cm)  petal length (cm)  petal width (cm)\n",
            "count         150.000000        150.000000         150.000000        150.000000\n",
            "mean            5.843333          3.057333           3.758000          1.199333\n",
            "std             0.828066          0.435866           1.765298          0.762238\n",
            "min             4.300000          2.000000           1.000000          0.100000\n",
            "25%             5.100000          2.800000           1.600000          0.300000\n",
            "50%             5.800000          3.000000           4.350000          1.300000\n",
            "75%             6.400000          3.300000           5.100000          1.800000\n",
            "max             7.900000          4.400000           6.900000          2.500000\n"
          ],
          "name": "stdout"
        }
      ]
    },
    {
      "cell_type": "code",
      "metadata": {
        "id": "BvSO4O5iL5u7",
        "colab_type": "code",
        "colab": {
          "base_uri": "https://localhost:8080/",
          "height": 34
        },
        "outputId": "4cec9bfe-9f8a-42da-9702-c7dc9ac1d68a"
      },
      "source": [
        ""
      ],
      "execution_count": 26,
      "outputs": [
        {
          "output_type": "stream",
          "text": [
            "0.9271098389904927\n"
          ],
          "name": "stdout"
        }
      ]
    }
  ]
}