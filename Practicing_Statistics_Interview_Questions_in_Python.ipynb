{
  "nbformat": 4,
  "nbformat_minor": 0,
  "metadata": {
    "colab": {
      "name": "Practicing-Statistics-Interview-Questions-in-Python.ipynb",
      "provenance": [],
      "collapsed_sections": [],
      "authorship_tag": "ABX9TyMkFHEOEiVB0JrWGaJLXyg4",
      "include_colab_link": true
    },
    "kernelspec": {
      "name": "python3",
      "display_name": "Python 3"
    }
  },
  "cells": [
    {
      "cell_type": "markdown",
      "metadata": {
        "id": "view-in-github",
        "colab_type": "text"
      },
      "source": [
        "<a href=\"https://colab.research.google.com/github/TedHaley/courses/blob/master/Practicing_Statistics_Interview_Questions_in_Python.ipynb\" target=\"_parent\"><img src=\"https://colab.research.google.com/assets/colab-badge.svg\" alt=\"Open In Colab\"/></a>"
      ]
    },
    {
      "cell_type": "code",
      "metadata": {
        "id": "mrr1eoOyknXj",
        "colab_type": "code",
        "outputId": "7706d465-b677-4685-9a65-b28484052a62",
        "colab": {
          "base_uri": "https://localhost:8080/",
          "height": 54
        }
      },
      "source": [
        "# Conditional Probabilities\n",
        "\n",
        "'''\n",
        "Rule of Addition:\tP(A∪B) = P(A) + P(B) – P(A∩B)\n",
        "Independent Events:\tP(A∩B) = P(A) ⋅ P(B)\n",
        "Conditional Probability:\tP(A | B) = P(A∩B) / P(B)\n",
        "Bayes Formula:\tP(A | B) = P(B | A) ⋅ P(A) / P(B)\n",
        "\n",
        "    stats       coding\n",
        "\n",
        "    pass   / pass (0.4)  \n",
        "    0.25  /\n",
        "          \\\n",
        "           \\ Fail (0.6)\n",
        "\n",
        "\n",
        "\n",
        "    fail   / pass (0.2)  \n",
        "    0.75  /\n",
        "          \\\n",
        "           \\ Fail (0.8)\n",
        "\n",
        "\n",
        "P(pass stats and coding) = 0.25 * 0.4 = 0.1\n",
        "\n",
        "P(pass coding) = (0.75 * 0.2) + (0.25 * 0.4) = 0.25\n",
        "\n",
        "P(pass stats | pass coding) = P(pass stats and coding) / P(pass coding) = 0.1 / 0.25 = 0.4\n",
        "'''"
      ],
      "execution_count": 0,
      "outputs": [
        {
          "output_type": "execute_result",
          "data": {
            "text/plain": [
              "'\\nRule of Addition:\\tP(A∪B) = P(A) + P(B) – P(A∩B)\\nIndependent Events:\\tP(A∩B) = P(A) ⋅ P(B)\\nConditional Probability:\\tP(A | B) = P(A∩B) / P(B)\\nBayes Formula:\\tP(A | B) = P(B | A) ⋅ P(A) / P(B)\\n\\n    stats       coding\\n\\n    pass   / pass (0.4)  \\n    0.25  /\\n                     \\\\ Fail (0.6)\\n\\n\\n\\n    fail   / pass (0.2)  \\n    0.75  /\\n                     \\\\ Fail (0.8)\\n\\n\\nP(pass stats and coding) = 0.25 * 0.4 = 0.1\\n\\nP(pass coding) = (0.75 * 0.2) + (0.25 * 0.4) = 0.25\\n\\nP(pass stats | pass coding) = P(pass stats and coding) / P(pass coding) = 0.1 / 0.25 = 0.4\\n'"
            ]
          },
          "metadata": {
            "tags": []
          },
          "execution_count": 1
        }
      ]
    },
    {
      "cell_type": "code",
      "metadata": {
        "id": "TnYydfXdkyoQ",
        "colab_type": "code",
        "outputId": "38ddc86c-627a-4873-a3f0-0db6570dc2cc",
        "colab": {
          "base_uri": "https://localhost:8080/",
          "height": 54
        }
      },
      "source": [
        "'''\n",
        "You're testing for a disease and advertising that the test is 99% accurate; \n",
        "that is if you have the disease, you will test positive 99% of the time, \n",
        "and if you don't have the disease, you will test negative 99% of the time. \n",
        "Let's say that 1% of all people have the disease and someone tests positive. \n",
        "What's the probability that the person has the disease? Select the correct \n",
        "set up for this problem.\n",
        "\n",
        "    Disease    Test\n",
        "\n",
        "    Yes    / pos (0.99)  \n",
        "    0.01  /\n",
        "          \\\n",
        "           \\ neg (0.01)\n",
        "\n",
        "\n",
        "\n",
        "    No     / pos (0.01)  \n",
        "    0.99  /\n",
        "          \\\n",
        "           \\ neg (0.99)\n",
        "\n",
        "Conditional Probability:\tP(A | B) = P(A∩B) / P(B)\n",
        "P(yes disease | pos test) = P(yes disease ∩ pos test) / P(pos test)\n",
        "P(yes disease ∩ pos test) = P(yes disease) * P(pos test) = 0.01 * 0.99\n",
        "P(pos test) = (P(yes disease) * P(pos test)) + (P(no disease) * P(pos test))\n",
        "            = ((0.01 * 0.99) + (0.99 * 0.01))\n",
        "\n",
        "P(yes disease | pos test) = (0.99 * 0.01) / ((0.01 * 0.99) + (0.99 * 0.01))\n",
        "                          = \n",
        "'''"
      ],
      "execution_count": 0,
      "outputs": [
        {
          "output_type": "execute_result",
          "data": {
            "text/plain": [
              "\"\\nYou're testing for a disease and advertising that the test is 99% accurate; \\nthat is if you have the disease, you will test positive 99% of the time, \\nand if you don't have the disease, you will test negative 99% of the time. \\nLet's say that 1% of all people have the disease and someone tests positive. \\nWhat's the probability that the person has the disease? Select the correct \\nset up for this problem.\\n\\n    Disease    Test\\n\\n    Yes    / pos (0.99)  \\n    0.01  /\\n                     \\\\ neg (0.01)\\n\\n\\n\\n    No     / pos (0.01)  \\n    0.99  /\\n                     \\\\ neg (0.99)\\n\\nConditional Probability:\\tP(A | B) = P(A∩B) / P(B)\\nP(yes disease | pos test) = P(yes disease ∩ pos test) / P(pos test)\\nP(yes disease ∩ pos test) = P(yes disease) * P(pos test) = 0.01 * 0.99\\nP(pos test) = (P(yes disease) * P(pos test)) + (P(no disease) * P(pos test))\\n            = ((0.01 * 0.99) + (0.99 * 0.01))\\n\\nP(yes disease | pos test) = (0.99 * 0.01) / ((0.01 * 0.99) + (0.99 * 0.01))\\n                          = \\n\""
            ]
          },
          "metadata": {
            "tags": []
          },
          "execution_count": 2
        }
      ]
    },
    {
      "cell_type": "code",
      "metadata": {
        "id": "IkTDfrMBj0A7",
        "colab_type": "code",
        "outputId": "28ce25b9-15a8-42a3-da28-02225b38cfaa",
        "colab": {
          "base_uri": "https://localhost:8080/",
          "height": 54
        }
      },
      "source": [
        "# Coin flip\n",
        "'''\n",
        "Let's actually solve out a pretty straightforward, yet typical Bayes' theorem \n",
        "interview problem. You have two coins in your hand. Out of the two coins, one \n",
        "is a real coin (heads and tails) and the other is a faulty coin with tails \n",
        "on both sides.\n",
        "\n",
        "You are blindfolded and forced to choose a random coin and then toss it in the \n",
        "air. The coin lands with tails facing upwards. Find the probability that this \n",
        "is the faulty coin.\n",
        "\n",
        "T H -> true coin\n",
        "T T -> faulty coin\n",
        "\n",
        "P(tails) = 3 / 4 = 0.75\n",
        "P(faulty) = 2 / 4 = 1 / 2 = 0.5\n",
        "P(tails and faulty) = 0.75 * 0.5 = 0.375\n",
        "\n",
        "Bayes Formula:\tP(A | B) = P(B | A) ⋅ P(A) / P(B)\n",
        "P(faulty | tails) =  P(tails | faulty) * P(faulty) / P(tails)\n",
        "P(faulty | tails) = 1 * 0.5 / 0.75 = 0.66666\n",
        "'''"
      ],
      "execution_count": 0,
      "outputs": [
        {
          "output_type": "execute_result",
          "data": {
            "text/plain": [
              "\"\\nLet's actually solve out a pretty straightforward, yet typical Bayes' theorem \\ninterview problem. You have two coins in your hand. Out of the two coins, one \\nis a real coin (heads and tails) and the other is a faulty coin with tails \\non both sides.\\n\\nYou are blindfolded and forced to choose a random coin and then toss it in the \\nair. The coin lands with tails facing upwards. Find the probability that this \\nis the faulty coin.\\n\\nT H -> true coin\\nT T -> faulty coin\\n\\nP(tails) = 3 / 4 = 0.75\\nP(faulty) = 2 / 4 = 1 / 2 = 0.5\\nP(tails and faulty) = 0.75 * 0.5 = 0.375\\n\\nBayes Formula:\\tP(A | B) = P(B | A) ⋅ P(A) / P(B)\\nP(faulty | tails) =  P(tails | faulty) * P(faulty) / P(tails)\\nP(faulty | tails) = 1 * 0.5 / 0.75 = 0.66666\\n\""
            ]
          },
          "metadata": {
            "tags": []
          },
          "execution_count": 3
        }
      ]
    },
    {
      "cell_type": "code",
      "metadata": {
        "id": "YOkMGevvozXG",
        "colab_type": "code",
        "outputId": "a1abfc86-c740-4926-eacd-18e93d0ef335",
        "colab": {
          "base_uri": "https://localhost:8080/",
          "height": 54
        }
      },
      "source": [
        "'''\n",
        "Central Limit Theorem\n",
        "With a large enough collection of samples from the same population, the sample \n",
        "means will be noramlly distributed. This does not make any underlying \n",
        "assumptions about the distributions of the data. With a population above 30, we\n",
        "can expect our distribution to be normal.\n",
        "\n",
        "Law of large numbers\n",
        "As the size of a sample is increased, the sample mean will better reflect the \n",
        "population mean (duh).\n",
        "\n",
        "E.g.: small samples can have crazy distributions because of outliers. \n",
        "'''\n"
      ],
      "execution_count": 0,
      "outputs": [
        {
          "output_type": "execute_result",
          "data": {
            "text/plain": [
              "'\\nCentral Limit Theorem\\nWith a large enough collection of samples from the same population, the sample \\nmeans will be noramlly distributed. This does not make any underlying \\nassumptions about the distributions of the data. With a population above 30, we\\ncan expect our distribution to be normal.\\n\\nLaw of large numbers\\nAs the size of a sample is increased, the sample mean will better reflect the \\npopulation mean (duh).\\n\\nE.g.: small samples can have crazy distributions because of outliers. \\n'"
            ]
          },
          "metadata": {
            "tags": []
          },
          "execution_count": 4
        }
      ]
    },
    {
      "cell_type": "code",
      "metadata": {
        "id": "H09VN2IBqe7Z",
        "colab_type": "code",
        "outputId": "0298df18-24e0-4f3e-9277-c8d253b342f1",
        "colab": {
          "base_uri": "https://localhost:8080/",
          "height": 51
        }
      },
      "source": [
        "# Samples of a rolled die\n",
        "from numpy.random import randint # discrete sides of a die\n",
        "import numpy as np\n",
        "\n",
        "# Create a sample of 10 die rolls\n",
        "small = randint(low=1, high=7, size=10)\n",
        "\n",
        "# Calculate and print the mean of the sample\n",
        "small_mean = np.mean(small)\n",
        "print(small_mean)\n",
        "\n",
        "# Create a sample of 1000 die rolls\n",
        "large = randint(low=1, high=7, size=1000)\n",
        "\n",
        "# Calculate and print the mean of the large sample\n",
        "large_mean = np.mean(large)\n",
        "print(large_mean)\n",
        "\n",
        "# This is an example of the law of large numbers as the mean approaches the\n",
        "# true population mean of 3.5"
      ],
      "execution_count": 0,
      "outputs": [
        {
          "output_type": "stream",
          "text": [
            "3.7\n",
            "3.5\n"
          ],
          "name": "stdout"
        }
      ]
    },
    {
      "cell_type": "code",
      "metadata": {
        "id": "mS7AqM5txJeH",
        "colab_type": "code",
        "outputId": "55427bde-6e7c-42a6-fa28-b79b9b85fc84",
        "colab": {
          "base_uri": "https://localhost:8080/",
          "height": 265
        }
      },
      "source": [
        "# 1000 samples from a population\n",
        "from numpy.random import randint\n",
        "import matplotlib.pyplot as plt\n",
        "\n",
        "# Create a list of 1000 sample means of size 30\n",
        "means = [randint(1, 7, 30).mean() for i in range(1000)]\n",
        "\n",
        "# Create and show a histogram of the means\n",
        "plt.hist(means)\n",
        "plt.show()"
      ],
      "execution_count": 0,
      "outputs": [
        {
          "output_type": "display_data",
          "data": {
            "image/png": "[encoded data removed]",
            "text/plain": [
              "<Figure size 432x288 with 1 Axes>"
            ]
          },
          "metadata": {
            "tags": []
          }
        }
      ]
    },
    {
      "cell_type": "code",
      "metadata": {
        "id": "ZjP_YL-HX6FG",
        "colab_type": "code",
        "outputId": "2eeb48d1-098d-4890-c9e9-36aedd653d3d",
        "colab": {
          "base_uri": "https://localhost:8080/",
          "height": 265
        }
      },
      "source": [
        "# 100 samples from a population\n",
        "from numpy.random import randint\n",
        "\n",
        "# Adapt code for 100 samples of size 30\n",
        "means = [randint(1, 7, 30).mean() for i in range(100)]\n",
        "\n",
        "# Create and show a histogram of the means\n",
        "plt.hist(means)\n",
        "plt.show()"
      ],
      "execution_count": 0,
      "outputs": [
        {
          "output_type": "display_data",
          "data": {
            "image/png": "[encoded data removed]",
            "text/plain": [
              "<Figure size 432x288 with 1 Axes>"
            ]
          },
          "metadata": {
            "tags": []
          }
        }
      ]
    },
    {
      "cell_type": "code",
      "metadata": {
        "id": "126H2g7FYF5W",
        "colab_type": "code",
        "outputId": "4290a88f-5355-47c5-f18d-2d0b4d874771",
        "colab": {
          "base_uri": "https://localhost:8080/",
          "height": 54
        }
      },
      "source": [
        "'''\n",
        "Probability Distributions\n",
        "Describes the likelihood of an outcome.\n",
        "\n",
        "Normal\n",
        "Bellcurve. \n",
        "68% -> within 1 std of mean\n",
        "95% -> within 2 std of mean\n",
        "99.7% -> within 3 std of mean\n",
        "\n",
        "Bernoulli\n",
        "Discrete distribution that models the probability of two outcomes. Ex: Coin flip\n",
        "Since there are only two outcomes in a bernoulli distribution, the probability\n",
        "of the outcomes is always p2 = 1 - p1.\n",
        "\n",
        "Binomial\n",
        "Can be thought of the sum of outcomes for multiple bernoulli trials.\n",
        "k = number of successes\n",
        "n = number of trials\n",
        "p = probability of success\n",
        "\n",
        "Poisson\n",
        "Represents the number of times something happened. Is represnted by rate\n",
        "lambda. Useful for counting events over time, given some rate.\n",
        "'''"
      ],
      "execution_count": 0,
      "outputs": [
        {
          "output_type": "execute_result",
          "data": {
            "text/plain": [
              "'\\nProbability Distributions\\nDescribes the likelihood of an outcome.\\n\\nNormal\\nBellcurve. \\n68% -> within 1 std of mean\\n95% -> within 2 std of mean\\n99.7% -> within 3 std of mean\\n\\nBernoulli\\nDiscrete distribution that models the probability of two outcomes. Ex: Coin flip\\nSince there are only two outcomes in a bernoulli distribution, the probability\\nof the outcomes is always p2 = 1 - p1.\\n\\nBinomial\\nCan be thought of the sum of outcomes for multiple bernoulli trials.\\nk = number of successes\\nn = number of trials\\np = probability of success\\n\\nPoisson\\nRepresents the number of times something happened. Is represnted by rate\\nlambda. Useful for counting events over time, given some rate.\\n'"
            ]
          },
          "metadata": {
            "tags": []
          },
          "execution_count": 8
        }
      ]
    },
    {
      "cell_type": "code",
      "metadata": {
        "id": "szQMw7eUabLV",
        "colab_type": "code",
        "outputId": "420d31a5-2934-45cc-ed88-8a0c803e9c2b",
        "colab": {
          "base_uri": "https://localhost:8080/",
          "height": 265
        }
      },
      "source": [
        "# Bernoulli distribution\n",
        "# Generate bernoulli data for a coin flip\n",
        "from scipy.stats import bernoulli\n",
        "data = bernoulli.rvs(p=0.5, size=1000)\n",
        "\n",
        "# Plot distribution\n",
        "plt.hist(data)\n",
        "plt.show()"
      ],
      "execution_count": 0,
      "outputs": [
        {
          "output_type": "display_data",
          "data": {
            "image/png": "[encoded data removed]",
            "text/plain": [
              "<Figure size 432x288 with 1 Axes>"
            ]
          },
          "metadata": {
            "tags": []
          }
        }
      ]
    },
    {
      "cell_type": "code",
      "metadata": {
        "id": "e-KR7fPsf8Rv",
        "colab_type": "code",
        "outputId": "2e81041f-bc3e-4a3f-aeba-47bbccaf9655",
        "colab": {
          "base_uri": "https://localhost:8080/",
          "height": 299
        }
      },
      "source": [
        "'''\n",
        "For this exercise, consider a game where you are trying to make a ball in a \n",
        "basket. You are given 10 shots and you know that you have an 80% chance of \n",
        "making a given shot. To simplify things, assume each shot is an independent \n",
        "event.\n",
        "'''\n",
        "# Generate binomial data\n",
        "from scipy.stats import binom\n",
        "data = binom.rvs(n=10, p=0.8, size=1000)\n",
        "\n",
        "# Plot the distribution\n",
        "plt.hist(data)\n",
        "plt.show()\n",
        "\n",
        "# Assign and print probability of 8 or less successes\n",
        "prob1 = binom.cdf(k=8, n=10, p=0.8)\n",
        "print(prob1)\n",
        "\n",
        "# Assign and print probability of all 10 successes\n",
        "prob2 = binom.pmf(k=10, n=10, p=0.8)\n",
        "print(prob2)\n"
      ],
      "execution_count": 0,
      "outputs": [
        {
          "output_type": "display_data",
          "data": {
            "image/png": "[encoded data removed]",
            "text/plain": [
              "<Figure size 432x288 with 1 Axes>"
            ]
          },
          "metadata": {
            "tags": []
          }
        },
        {
          "output_type": "stream",
          "text": [
            "0.6241903616\n",
            "0.10737418240000005\n"
          ],
          "name": "stdout"
        }
      ]
    },
    {
      "cell_type": "code",
      "metadata": {
        "id": "5XCLhniUgpG6",
        "colab_type": "code",
        "outputId": "d5247b6e-1674-4f70-f288-c1dadc001f81",
        "colab": {
          "base_uri": "https://localhost:8080/",
          "height": 299
        }
      },
      "source": [
        "# Generate normal data\n",
        "from scipy.stats import norm\n",
        "data = norm.rvs(size=1000)\n",
        "\n",
        "# Plot distribution\n",
        "plt.hist(data)\n",
        "plt.show()\n",
        "\n",
        "# Compute and print true probability for greater than 2\n",
        "true_prob = 1 - norm.cdf(2)\n",
        "print(true_prob)\n",
        "\n",
        "# Compute and print sample probability for greater than 2\n",
        "sample_prob = sum(obs > 2 for obs in data) / len(data)\n",
        "print(sample_prob)"
      ],
      "execution_count": 0,
      "outputs": [
        {
          "output_type": "display_data",
          "data": {
            "image/png": "[encoded data removed]",
            "text/plain": [
              "<Figure size 432x288 with 1 Axes>"
            ]
          },
          "metadata": {
            "tags": []
          }
        },
        {
          "output_type": "stream",
          "text": [
            "0.02275013194817921\n",
            "0.023\n"
          ],
          "name": "stdout"
        }
      ]
    },
    {
      "cell_type": "code",
      "metadata": {
        "id": "GNZmwepdo5df",
        "colab_type": "code",
        "outputId": "e13787ab-6faa-4d43-cfb9-b7e615401e57",
        "colab": {
          "base_uri": "https://localhost:8080/",
          "height": 54
        }
      },
      "source": [
        "# Descriptive statistics\n",
        "'''\n",
        "Measures of centrality\n",
        "Measure of how central the data is\n",
        "\n",
        "mean\n",
        "Average. Sum divided by the number of observations\n",
        "\n",
        "mode\n",
        "The mode common observation\n",
        "\n",
        "median\n",
        "The middle value when values are sorted\n",
        "\n",
        "If a distribution is perfectly symetrical, these statistics are the same.\n",
        "If the distribution is skewed, these statistics are no longer the same.\n",
        "'''"
      ],
      "execution_count": 0,
      "outputs": [
        {
          "output_type": "execute_result",
          "data": {
            "text/plain": [
              "'\\nMeasures of centrality\\nMeasure of how central the data is\\n\\nmean\\nAverage. Sum divided by the number of observations\\n\\nmode\\nThe mode common observation\\n\\nmedian\\nThe middle value when values are sorted\\n\\nIf a distribution is perfectly symetrical, these statistics are the same.\\nIf the distribution is skewed, these statistics are no longer the same.\\n'"
            ]
          },
          "metadata": {
            "tags": []
          },
          "execution_count": 12
        }
      ]
    },
    {
      "cell_type": "code",
      "metadata": {
        "id": "lxK6ve_yp12M",
        "colab_type": "code",
        "outputId": "7a736816-11ea-4db4-f018-415d4a19cff6",
        "colab": {
          "base_uri": "https://localhost:8080/",
          "height": 54
        }
      },
      "source": [
        "'''\n",
        "Measures of variablility\n",
        "Measure of how spread out the data is\n",
        "\n",
        "variance\n",
        "s^2 = (sum(x - mean)^2) / (n - 1)\n",
        "\n",
        "standard deviation\n",
        "s = sqrt((sum(x - mean)^2) / (n - 1))\n",
        "\n",
        "range\n",
        "max - min\n",
        "\n",
        "Modality\n",
        "Number of peaks in distribution\n",
        "\n",
        "Skewness\n",
        "measure of symmetry of the distribution\n",
        "'''"
      ],
      "execution_count": 0,
      "outputs": [
        {
          "output_type": "execute_result",
          "data": {
            "text/plain": [
              "'\\nMeasures of variablility\\nMeasure of how spread out the data is\\n\\nvariance\\ns^2 = (sum(x - mean)^2) / (n - 1)\\n\\nstandard deviation\\ns = sqrt((sum(x - mean)^2) / (n - 1))\\n\\nrange\\nmax - min\\n\\nModality\\nNumber of peaks in distribution\\n\\nSkewness\\nmeasure of symmetry of the distribution\\n'"
            ]
          },
          "metadata": {
            "tags": []
          },
          "execution_count": 13
        }
      ]
    },
    {
      "cell_type": "code",
      "metadata": {
        "id": "-qz57yneq9hU",
        "colab_type": "code",
        "outputId": "816ab5df-e889-48c2-8a63-5a41a316d1d1",
        "colab": {
          "base_uri": "https://localhost:8080/",
          "height": 221
        }
      },
      "source": [
        "import numpy as np\n",
        "import pandas as pd\n",
        "weather = pd.read_csv('/content/sample_data/california_housing_test.csv')\n",
        "print(weather.head())\n",
        "print(weather.columns)"
      ],
      "execution_count": 0,
      "outputs": [
        {
          "output_type": "stream",
          "text": [
            "   longitude  latitude  ...  median_income  median_house_value\n",
            "0    -122.05     37.37  ...         6.6085            344700.0\n",
            "1    -118.30     34.26  ...         3.5990            176500.0\n",
            "2    -117.81     33.78  ...         5.7934            270500.0\n",
            "3    -118.36     33.82  ...         6.1359            330000.0\n",
            "4    -119.67     36.33  ...         2.9375             81700.0\n",
            "\n",
            "[5 rows x 9 columns]\n",
            "Index(['longitude', 'latitude', 'housing_median_age', 'total_rooms',\n",
            "       'total_bedrooms', 'population', 'households', 'median_income',\n",
            "       'median_house_value'],\n",
            "      dtype='object')\n"
          ],
          "name": "stdout"
        }
      ]
    },
    {
      "cell_type": "code",
      "metadata": {
        "id": "PSMXUnrxvsTv",
        "colab_type": "code",
        "outputId": "34343d6d-3a79-4a92-f584-e769f16780fc",
        "colab": {
          "base_uri": "https://localhost:8080/",
          "height": 299
        }
      },
      "source": [
        "# Visualize the distribution \n",
        "plt.hist(weather['median_income'])\n",
        "plt.show()\n",
        "\n",
        "# Assign the mean to the variable and print the result\n",
        "mean = np.mean(weather['median_income'])\n",
        "print('Mean:', mean)\n",
        "\n",
        "# Assign the median to the variable and print the result\n",
        "median = np.median(weather['median_income'])\n",
        "print('Median:', median)"
      ],
      "execution_count": 0,
      "outputs": [
        {
          "output_type": "display_data",
          "data": {
            "image/png": "[encoded data removed]",
            "text/plain": [
              "<Figure size 432x288 with 1 Axes>"
            ]
          },
          "metadata": {
            "tags": []
          }
        },
        {
          "output_type": "stream",
          "text": [
            "Mean: 3.807271799999998\n",
            "Median: 3.4871499999999997\n"
          ],
          "name": "stdout"
        }
      ]
    },
    {
      "cell_type": "code",
      "metadata": {
        "id": "oyMo6lWiwua5",
        "colab_type": "code",
        "outputId": "44f59930-b797-4c45-d3ff-6c08ade10eb7",
        "colab": {
          "base_uri": "https://localhost:8080/",
          "height": 51
        }
      },
      "source": [
        "# Create a sample list\n",
        "import math\n",
        "nums = [1, 2, 3, 4, 5]\n",
        "\n",
        "# Compute the mean of the list\n",
        "mean = sum(nums)/len(nums)\n",
        "\n",
        "# Compute the variance and print the std of the list\n",
        "variance = sum(pow(x - mean, 2) for x in nums) / len(nums)\n",
        "std = math.sqrt(variance)\n",
        "print(std)\n",
        "\n",
        "# Compute and print the actual result from numpy\n",
        "real_std = np.array(nums).std()\n",
        "print(real_std)"
      ],
      "execution_count": 0,
      "outputs": [
        {
          "output_type": "stream",
          "text": [
            "1.4142135623730951\n",
            "1.4142135623730951\n"
          ],
          "name": "stdout"
        }
      ]
    },
    {
      "cell_type": "code",
      "metadata": {
        "id": "X8L2_0xzxpvi",
        "colab_type": "code",
        "outputId": "42fe366e-bb03-458a-ef04-d8fc4229f6c4",
        "colab": {
          "base_uri": "https://localhost:8080/",
          "height": 204
        }
      },
      "source": [
        "from sklearn import datasets\n",
        "\n",
        "data = datasets.load_iris()\n",
        "df = pd.DataFrame(data.data, columns=data.feature_names)\n",
        "df.head()"
      ],
      "execution_count": 0,
      "outputs": [
        {
          "output_type": "execute_result",
          "data": {
            "text/html": [
              "<div>\n",
              "<style scoped>\n",
              "    .dataframe tbody tr th:only-of-type {\n",
              "        vertical-align: middle;\n",
              "    }\n",
              "\n",
              "    .dataframe tbody tr th {\n",
              "        vertical-align: top;\n",
              "    }\n",
              "\n",
              "    .dataframe thead th {\n",
              "        text-align: right;\n",
              "    }\n",
              "</style>\n",
              "<table border=\"1\" class=\"dataframe\">\n",
              "  <thead>\n",
              "    <tr style=\"text-align: right;\">\n",
              "      <th></th>\n",
              "      <th>sepal length (cm)</th>\n",
              "      <th>sepal width (cm)</th>\n",
              "      <th>petal length (cm)</th>\n",
              "      <th>petal width (cm)</th>\n",
              "    </tr>\n",
              "  </thead>\n",
              "  <tbody>\n",
              "    <tr>\n",
              "      <th>0</th>\n",
              "      <td>5.1</td>\n",
              "      <td>3.5</td>\n",
              "      <td>1.4</td>\n",
              "      <td>0.2</td>\n",
              "    </tr>\n",
              "    <tr>\n",
              "      <th>1</th>\n",
              "      <td>4.9</td>\n",
              "      <td>3.0</td>\n",
              "      <td>1.4</td>\n",
              "      <td>0.2</td>\n",
              "    </tr>\n",
              "    <tr>\n",
              "      <th>2</th>\n",
              "      <td>4.7</td>\n",
              "      <td>3.2</td>\n",
              "      <td>1.3</td>\n",
              "      <td>0.2</td>\n",
              "    </tr>\n",
              "    <tr>\n",
              "      <th>3</th>\n",
              "      <td>4.6</td>\n",
              "      <td>3.1</td>\n",
              "      <td>1.5</td>\n",
              "      <td>0.2</td>\n",
              "    </tr>\n",
              "    <tr>\n",
              "      <th>4</th>\n",
              "      <td>5.0</td>\n",
              "      <td>3.6</td>\n",
              "      <td>1.4</td>\n",
              "      <td>0.2</td>\n",
              "    </tr>\n",
              "  </tbody>\n",
              "</table>\n",
              "</div>"
            ],
            "text/plain": [
              "   sepal length (cm)  sepal width (cm)  petal length (cm)  petal width (cm)\n",
              "0                5.1               3.5                1.4               0.2\n",
              "1                4.9               3.0                1.4               0.2\n",
              "2                4.7               3.2                1.3               0.2\n",
              "3                4.6               3.1                1.5               0.2\n",
              "4                5.0               3.6                1.4               0.2"
            ]
          },
          "metadata": {
            "tags": []
          },
          "execution_count": 17
        }
      ]
    },
    {
      "cell_type": "code",
      "metadata": {
        "id": "h6WIyYBeJWtB",
        "colab_type": "code",
        "outputId": "2ee8b3e9-eaab-45b6-f3ec-f1a6b3796932",
        "colab": {
          "base_uri": "https://localhost:8080/",
          "height": 802
        }
      },
      "source": [
        "import seaborn as sns\n",
        "sns.pairplot(df)\n",
        "plt.show()"
      ],
      "execution_count": 0,
      "outputs": [
        {
          "output_type": "stream",
          "text": [
            "/usr/local/lib/python3.6/dist-packages/statsmodels/tools/_testing.py:19: FutureWarning: pandas.util.testing is deprecated. Use the functions in the public API at pandas.testing instead.\n",
            "  import pandas.util.testing as tm\n"
          ],
          "name": "stderr"
        },
        {
          "output_type": "display_data",
          "data": {
            "image/png": "[encoded data removed]",
            "text/plain": [
              "<Figure size 720x720 with 20 Axes>"
            ]
          },
          "metadata": {
            "tags": []
          }
        }
      ]
    },
    {
      "cell_type": "code",
      "metadata": {
        "id": "5S942L3SXeoS",
        "colab_type": "code",
        "outputId": "c4d85543-7c17-4fd8-9831-49c942def6a1",
        "colab": {
          "base_uri": "https://localhost:8080/",
          "height": 54
        }
      },
      "source": [
        "'''\n",
        "Pearson's correlation (r)\n",
        "r = Cov(x, y) / (std(x) * std(y))\n",
        "r = 1; perfectly positively correlated\n",
        "r = 0; no correlation\n",
        "r = -1; perfectly negatively correlated\n",
        "\n",
        "R-Squared\n",
        "the proportion of the variance for a dependent variable that's explained by \n",
        "an independent variable\n",
        "\n",
        "\n",
        "'''"
      ],
      "execution_count": 0,
      "outputs": [
        {
          "output_type": "execute_result",
          "data": {
            "text/plain": [
              "\"\\nPearson's correlation (r)\\nr = Cov(x, y) / (std(x) * std(y))\\nr = 1; perfectly positively correlated\\nr = 0; no correlation\\nr = -1; perfectly negatively correlated\\n\\nR-Squared\\nthe proportion of the variance for a dependent variable that's explained by \\nan independent variable\\n\\n\\n\""
            ]
          },
          "metadata": {
            "tags": []
          },
          "execution_count": 19
        }
      ]
    },
    {
      "cell_type": "code",
      "metadata": {
        "id": "pcQNGOx3J5GU",
        "colab_type": "code",
        "outputId": "2b6ec2e8-8dd9-4bf3-ebbc-558c4533b699",
        "colab": {
          "base_uri": "https://localhost:8080/",
          "height": 51
        }
      },
      "source": [
        "# Pearson correlation\n",
        "r = df['petal length (cm)'].corr(df['petal width (cm)'])\n",
        "print(r)\n",
        "\n",
        "# Calculate the r-squared value and print the result\n",
        "r2 = r**2\n",
        "print(r2)"
      ],
      "execution_count": 0,
      "outputs": [
        {
          "output_type": "stream",
          "text": [
            "0.9628654314027961\n",
            "0.9271098389904927\n"
          ],
          "name": "stdout"
        }
      ]
    },
    {
      "cell_type": "code",
      "metadata": {
        "id": "VN31YCJ2M7u8",
        "colab_type": "code",
        "outputId": "81d89727-e819-44b6-e843-9ed8eae0cb45",
        "colab": {
          "base_uri": "https://localhost:8080/",
          "height": 54
        }
      },
      "source": [
        "'''\n",
        "We see here that petal length has a strong correlation \n",
        "with petal width, giving us a ~0.96 pearson coefficient. \n",
        "When we square that result, we get a r-squared value of ~0.927, \n",
        "meaning that petal length explains around 92.7% of the variability in the \n",
        "petal width variable.\n",
        "'''"
      ],
      "execution_count": 0,
      "outputs": [
        {
          "output_type": "execute_result",
          "data": {
            "text/plain": [
              "'\\nWe see here that petal length has a strong correlation \\nwith petal width, giving us a ~0.96 pearson coefficient. \\nWhen we square that result, we get a r-squared value of ~0.927, \\nmeaning that petal length explains around 92.7% of the variability in the \\npetal width variable.\\n'"
            ]
          },
          "metadata": {
            "tags": []
          },
          "execution_count": 21
        }
      ]
    },
    {
      "cell_type": "code",
      "metadata": {
        "id": "mwmGpe68Lrxv",
        "colab_type": "code",
        "outputId": "406ac8dc-f277-423e-8c6c-96990fd3ef17",
        "colab": {
          "base_uri": "https://localhost:8080/",
          "height": 221
        }
      },
      "source": [
        "print(df.info())"
      ],
      "execution_count": 0,
      "outputs": [
        {
          "output_type": "stream",
          "text": [
            "<class 'pandas.core.frame.DataFrame'>\n",
            "RangeIndex: 150 entries, 0 to 149\n",
            "Data columns (total 4 columns):\n",
            " #   Column             Non-Null Count  Dtype  \n",
            "---  ------             --------------  -----  \n",
            " 0   sepal length (cm)  150 non-null    float64\n",
            " 1   sepal width (cm)   150 non-null    float64\n",
            " 2   petal length (cm)  150 non-null    float64\n",
            " 3   petal width (cm)   150 non-null    float64\n",
            "dtypes: float64(4)\n",
            "memory usage: 4.8 KB\n",
            "None\n"
          ],
          "name": "stdout"
        }
      ]
    },
    {
      "cell_type": "code",
      "metadata": {
        "id": "b6FL3ubjL24E",
        "colab_type": "code",
        "outputId": "074c1298-f4a7-4440-f30a-8f2d316cbe76",
        "colab": {
          "base_uri": "https://localhost:8080/",
          "height": 170
        }
      },
      "source": [
        "print(df.describe())"
      ],
      "execution_count": 0,
      "outputs": [
        {
          "output_type": "stream",
          "text": [
            "       sepal length (cm)  sepal width (cm)  petal length (cm)  petal width (cm)\n",
            "count         150.000000        150.000000         150.000000        150.000000\n",
            "mean            5.843333          3.057333           3.758000          1.199333\n",
            "std             0.828066          0.435866           1.765298          0.762238\n",
            "min             4.300000          2.000000           1.000000          0.100000\n",
            "25%             5.100000          2.800000           1.600000          0.300000\n",
            "50%             5.800000          3.000000           4.350000          1.300000\n",
            "75%             6.400000          3.300000           5.100000          1.800000\n",
            "max             7.900000          4.400000           6.900000          2.500000\n"
          ],
          "name": "stdout"
        }
      ]
    },
    {
      "cell_type": "code",
      "metadata": {
        "id": "BvSO4O5iL5u7",
        "colab_type": "code",
        "outputId": "e65a8ef3-9d07-4862-a2d1-68be7d325fd1",
        "colab": {
          "base_uri": "https://localhost:8080/",
          "height": 34
        }
      },
      "source": [
        "# Confidence Intervals\n",
        "'''\n",
        "Sampling\n",
        "Sample is a collection from a population that represents the whole. We can make\n",
        "generalizations from the sample of the population\n",
        "\n",
        "Confidence interval\n",
        "Range of values where we are fairly sure include the true value of a unknown\n",
        "population. \n",
        "\n",
        "95% confidence interval: -> +/- 1.96 population standard deviations\n",
        "we are 95% sure that the interval contains the true\n",
        "parameter value of the population \n",
        "\n",
        "Calculating confidence intervals:\n",
        "X_mean +/- (Z * (std / sqrt(n)))\n",
        "\n",
        "standard error (sem)\n",
        "sem = std / sqrt(n))\n",
        "\n",
        "'''\n",
        "\n",
        "import scipy.stats as st\n",
        "a = range(10, 14)\n",
        "ci = st.t.interval(0.95, len(a) - 1, loc = np.mean(a), scale = st.sem(a))\n",
        "print(ci)\n",
        "\n",
        "# The true mean should fall in this range 95/100 times"
      ],
      "execution_count": 0,
      "outputs": [
        {
          "output_type": "stream",
          "text": [
            "(9.445739743239121, 13.554260256760879)\n"
          ],
          "name": "stdout"
        }
      ]
    },
    {
      "cell_type": "code",
      "metadata": {
        "id": "Mgd17kcxhwMI",
        "colab_type": "code",
        "outputId": "54c757ef-8094-43ab-bd7f-a4a409429865",
        "colab": {
          "base_uri": "https://localhost:8080/",
          "height": 34
        }
      },
      "source": [
        "# Confidence interval from proportions\n",
        "from statsmodels.stats.proportion import proportion_confint\n",
        "\n",
        "# number of successes = 4\n",
        "# number of trials = 10\n",
        "# alpha = 1 - ci = 0.05\n",
        "proportion_confint(4, 10, 0.05)"
      ],
      "execution_count": 26,
      "outputs": [
        {
          "output_type": "execute_result",
          "data": {
            "text/plain": [
              "(0.09636368514840155, 0.7036363148515985)"
            ]
          },
          "metadata": {
            "tags": []
          },
          "execution_count": 26
        }
      ]
    },
    {
      "cell_type": "code",
      "metadata": {
        "id": "m4sg1MrQoC1f",
        "colab_type": "code",
        "colab": {
          "base_uri": "https://localhost:8080/",
          "height": 85
        },
        "outputId": "7df72c09-914f-41a4-d8be-78667e5ad418"
      },
      "source": [
        "from scipy.stats import sem, t, zscore\n",
        "import numpy as np\n",
        "\n",
        "data = [1, 2, 3, 4, 5]\n",
        "confidence = 0.95\n",
        "\n",
        "z_score = zscore(data)\n",
        "print(z_score)\n",
        "\n",
        "sample_mean = np.mean(data)\n",
        "print(sample_mean)\n",
        "\n",
        "# Compute the standard error and margin of error\n",
        "std_err = sem(data)\n",
        "margin_error = std_err * z_score\n",
        "\n",
        "# Compute and print the lower threshold\n",
        "lower = sample_mean - margin_error\n",
        "print(lower)\n",
        "\n",
        "# Compute and print the upper threshold\n",
        "upper = sample_mean + margin_error\n",
        "print(upper)"
      ],
      "execution_count": 30,
      "outputs": [
        {
          "output_type": "stream",
          "text": [
            "[-1.41421356 -0.70710678  0.          0.70710678  1.41421356]\n",
            "3.0\n",
            "[4.  3.5 3.  2.5 2. ]\n",
            "[2.  2.5 3.  3.5 4. ]\n"
          ],
          "name": "stdout"
        }
      ]
    },
    {
      "cell_type": "code",
      "metadata": {
        "id": "IOBUd9jptuwR",
        "colab_type": "code",
        "colab": {
          "base_uri": "https://localhost:8080/",
          "height": 187
        },
        "outputId": "0b365887-5ffb-4f24-c789-3dcb150af549"
      },
      "source": [
        "# Simulate an experiment of 50 coin flips 10 times\n",
        "# Repeat this process 10 times \n",
        "\n",
        "# n_trials = 50\n",
        "# prob_heads = 50%\n",
        "heads = binom.rvs(50, 0.5, size=10)\n",
        "for val in heads:\n",
        "    confidence_interval = proportion_confint(val, 50, .10)\n",
        "    print(confidence_interval)"
      ],
      "execution_count": 31,
      "outputs": [
        {
          "output_type": "stream",
          "text": [
            "(0.44453174400822454, 0.6754682559917756)\n",
            "(0.4037843688532205, 0.6362156311467796)\n",
            "(0.3440640699353905, 0.5759359300646095)\n",
            "(0.3440640699353905, 0.5759359300646095)\n",
            "(0.24834363324703929, 0.4716563667529607)\n",
            "(0.3440640699353905, 0.5759359300646095)\n",
            "(0.22980708270501132, 0.4501929172949887)\n",
            "(0.4037843688532205, 0.6362156311467796)\n",
            "(0.3836912846323326, 0.6163087153676674)\n",
            "(0.30518968814451874, 0.5348103118554812)\n"
          ],
          "name": "stdout"
        }
      ]
    },
    {
      "cell_type": "code",
      "metadata": {
        "id": "IE4EoTpFy7rP",
        "colab_type": "code",
        "colab": {}
      },
      "source": [
        "# Hypothesis Testing\n",
        "'''\n",
        "Assumptions:\n",
        " - Random Sampling\n",
        " - Independent observations\n",
        " - Normally distributed\n",
        " - Constant variance\n",
        "\n",
        "Null Hypothesis (H0)\n",
        "The treatment does not have an affect the outcome in any way\n",
        "\n",
        "Alternate Hypothesis (H1)\n",
        "The treatment does have an affect the outcome\n",
        "\n",
        "Which test to use to. test hypothesis:\n",
        "Two types of tests: z-test and t-test\n",
        "\n",
        "\n",
        "\n",
        "                                          / z-test\n",
        "                      / sample size > 30 /\n",
        "                     /                   \\ \n",
        "population standard /                     \\ t-test\n",
        "deviation?          \\\n",
        "                     \\\n",
        "                      \\ t-test\n",
        "\n",
        "\n",
        "p = 95% confidence in test\n",
        "alpha = 1 - p = 5%\n",
        "\n",
        "Types of errors:\n",
        "\n",
        "                         REALITY\n",
        "                     true         false\n",
        "                 __________________________\n",
        "          true   |   correct      Type 1\n",
        "MEASURED         |\n",
        "          false  |   Type 2       correct\n",
        "\n",
        "\n",
        "Type 1: False Positive (measured true, actually false) -> rejection of a true null hypothesis\n",
        "Type 2: False Negative (measured false, actually true) -> non-rejection of a false null hypothesis\n",
        "\n",
        "Sample size and confidence level are negatively correlated with Type II error, \n",
        "while minimum effect size causes a higher chance of Type II error\n",
        "'''"
      ],
      "execution_count": 0,
      "outputs": []
    },
    {
      "cell_type": "code",
      "metadata": {
        "id": "44JhiHm93EsF",
        "colab_type": "code",
        "colab": {
          "base_uri": "https://localhost:8080/",
          "height": 119
        },
        "outputId": "8f2289f3-f66c-45e4-8f97-341c2d9fc05d"
      },
      "source": [
        "# One tailed z-test\n",
        "'''\n",
        "We're doing a z-test because we don't know the population std and sample size \n",
        "is greater than 30.\n",
        "\n",
        "The treatment group represents some graphic alteration that we expect to improve\n",
        "the conversion rate of users. Run a test with alpha as .05 and find out if the \n",
        "change actually helped.\n",
        "'''\n",
        "from scipy.stats import bernoulli\n",
        "import pandas as pd\n",
        "\n",
        "# Generate some test data. Pretend like we don't know the true population stats\n",
        "num_control = 5098\n",
        "prob_control = 0.112593\n",
        "\n",
        "num_treatment = 4902\n",
        "prob_treatment = 0.128111\n",
        "\n",
        "control_data = bernoulli.rvs(p=prob_control, size=num_control)\n",
        "treatment_data = bernoulli.rvs(p=prob_treatment, size=num_treatment)\n",
        "\n",
        "control_df = pd.DataFrame({'Converted': control_data})\n",
        "control_df['Group'] = 'control'\n",
        "\n",
        "treatment_df = pd.DataFrame({'Converted': treatment_data})\n",
        "treatment_df['Group'] = 'treatment'\n",
        "\n",
        "df = pd.concat([control_df, treatment_df])\n",
        "df.reset_index(drop=True, inplace=True)\n",
        "\n",
        "print(df.head())\n"
      ],
      "execution_count": 37,
      "outputs": [
        {
          "output_type": "stream",
          "text": [
            "   Converted    Group\n",
            "0          0  control\n",
            "1          0  control\n",
            "2          0  control\n",
            "3          0  control\n",
            "4          1  control\n"
          ],
          "name": "stdout"
        }
      ]
    },
    {
      "cell_type": "code",
      "metadata": {
        "id": "qqJCIkAhAuyM",
        "colab_type": "code",
        "colab": {
          "base_uri": "https://localhost:8080/",
          "height": 85
        },
        "outputId": "2f0534db-2fb7-45e7-92e4-f591da22251f"
      },
      "source": [
        "results = df.copy()\n",
        "\n",
        "# Assign and print the conversion rate for each group\n",
        "conv_rates = results.groupby('Group').mean()\n",
        "print(conv_rates)"
      ],
      "execution_count": 38,
      "outputs": [
        {
          "output_type": "stream",
          "text": [
            "           Converted\n",
            "Group               \n",
            "control     0.104551\n",
            "treatment   0.129131\n"
          ],
          "name": "stdout"
        }
      ]
    },
    {
      "cell_type": "code",
      "metadata": {
        "id": "FpMBWWowA6lJ",
        "colab_type": "code",
        "colab": {
          "base_uri": "https://localhost:8080/",
          "height": 34
        },
        "outputId": "44b75f2b-3e34-4257-aeb9-322d723d8499"
      },
      "source": [
        "# Assign the number of conversions and total trials\n",
        "num_control = results[results['Group'] == 'control']['Converted'].sum()\n",
        "total_control = len(results[results['Group'] == 'control'])\n",
        "\n",
        "# Assign the number of conversions and total trials\n",
        "num_treat = results[results['Group'] == 'treatment']['Converted'].sum()\n",
        "total_treat = len(results[results['Group'] == 'treatment'])\n",
        "\n",
        "from statsmodels.stats.proportion import proportions_ztest\n",
        "count = np.array([num_treat, num_control]) \n",
        "nobs = np.array([total_treat, total_control])\n",
        "\n",
        "# Run the z-test and print the result \n",
        "stat, pval = proportions_ztest(count=count, nobs=nobs, alternative=\"larger\")\n",
        "print('{0:0.5f}'.format(pval))"
      ],
      "execution_count": 41,
      "outputs": [
        {
          "output_type": "stream",
          "text": [
            "0.00006\n"
          ],
          "name": "stdout"
        }
      ]
    },
    {
      "cell_type": "code",
      "metadata": {
        "id": "I74LphCmDvYi",
        "colab_type": "code",
        "colab": {}
      },
      "source": [
        "'''\n",
        "p-value: probability of getting something more extreme\n",
        "\n",
        "H0: Treatment has no affect\n",
        "Null hypothesis, we always assume there is no affect\n",
        "\n",
        "H1: Treatment has affect\n",
        "Alternate hypothesis, we always assume there is affect\n",
        "\n",
        "p-val >= alpha : accept the null hypothesis.\n",
        "p-val < alpha : reject the null hypothesis.\n",
        "\n",
        "You see that our test gave us a resulting p-value of 0.00006 which falls under our \n",
        "alpha value of .05, so we can conclude that there is an effect and, therefore, \n",
        "we reject the null hypothesis. It looks like the change actually did have a \n",
        "noticeable positive effect on conversion rate!\n",
        "'''"
      ],
      "execution_count": 0,
      "outputs": []
    },
    {
      "cell_type": "code",
      "metadata": {
        "id": "gAGbGazrDzmX",
        "colab_type": "code",
        "colab": {
          "base_uri": "https://localhost:8080/",
          "height": 119
        },
        "outputId": "4358e497-2eb5-4ec4-e946-31efd3e3b933"
      },
      "source": [
        "# two tailed t-test\n",
        "\n",
        "# Make up some data\n",
        "asus_mean = 1104.169367\n",
        "asus_std = 702.490232\n",
        "asus_count = 158\n",
        "\n",
        "tosh_mean = 1267.812500\n",
        "tosh_std = 478.913294\n",
        "tosh_count = 48\n",
        "\n",
        "asus_samples = np.random.normal(asus_mean, asus_std, size=asus_count)\n",
        "tosh_samples = np.random.normal(tosh_mean, tosh_std, size=tosh_count)\n",
        "\n",
        "df_asus = pd.DataFrame({'Price': asus_samples})\n",
        "df_asus['Company'] = 'Asus'\n",
        "df_tosh = pd.DataFrame({'Price': tosh_samples})\n",
        "df_tosh['Company'] = 'Toshiba'\n",
        "\n",
        "df = pd.concat([df_asus, df_tosh])\n",
        "df.reset_index(drop=True, inplace=True)\n",
        "\n",
        "laptops = df.copy()\n",
        "print(laptops.head())"
      ],
      "execution_count": 52,
      "outputs": [
        {
          "output_type": "stream",
          "text": [
            "         Price Company\n",
            "0 -1121.945805    Asus\n",
            "1   981.563373    Asus\n",
            "2  1209.078344    Asus\n",
            "3  1045.527290    Asus\n",
            "4   820.061212    Asus\n"
          ],
          "name": "stdout"
        }
      ]
    },
    {
      "cell_type": "code",
      "metadata": {
        "id": "x6SVvkqUTHbK",
        "colab_type": "code",
        "colab": {
          "base_uri": "https://localhost:8080/",
          "height": 85
        },
        "outputId": "a31e8d6b-ece8-4084-a536-567935cfe459"
      },
      "source": [
        "prices = laptops.groupby('Company').mean()\n",
        "print(prices)"
      ],
      "execution_count": 53,
      "outputs": [
        {
          "output_type": "stream",
          "text": [
            "               Price\n",
            "Company             \n",
            "Asus     1040.899129\n",
            "Toshiba  1266.242710\n"
          ],
          "name": "stdout"
        }
      ]
    },
    {
      "cell_type": "code",
      "metadata": {
        "id": "A8o0eRbjTynR",
        "colab_type": "code",
        "colab": {
          "base_uri": "https://localhost:8080/",
          "height": 34
        },
        "outputId": "61a3d31f-9679-4c3e-fe21-4f60a4b423d2"
      },
      "source": [
        "# Assign the prices of each group\n",
        "asus = laptops[laptops['Company'] == 'Asus']['Price']\n",
        "toshiba = laptops[laptops['Company'] == 'Toshiba']['Price']\n",
        "\n",
        "# Run the t-test\n",
        "from scipy.stats import ttest_ind\n",
        "tstat, pval = ttest_ind(asus, toshiba)\n",
        "print('{0:0.3f}'.format(pval))"
      ],
      "execution_count": 54,
      "outputs": [
        {
          "output_type": "stream",
          "text": [
            "0.040\n"
          ],
          "name": "stdout"
        }
      ]
    },
    {
      "cell_type": "code",
      "metadata": {
        "id": "OYWP71i2USvN",
        "colab_type": "code",
        "colab": {}
      },
      "source": [
        "'''\n",
        "H0: Toshiba is not more expensive than Asus\n",
        "Null hypothesis, we always assume there is no affect\n",
        "\n",
        "H1: Toshiba is more expensive than Asus\n",
        "Alternate hypothesis, we always assume there is affect\n",
        "\n",
        "p-val >= alpha : accept the null hypothesis.\n",
        "p-val < alpha : reject the null hypothesis.\n",
        "\n",
        "p-val = 0.04, pval < alpha -> reject null hypothesis, Toshiba is more expensive\n",
        "'''"
      ],
      "execution_count": 0,
      "outputs": []
    },
    {
      "cell_type": "code",
      "metadata": {
        "id": "nvcgDCKrVEeo",
        "colab_type": "code",
        "colab": {}
      },
      "source": [
        "# Power Analysis\n",
        "'''\n",
        "Effect Size:\n",
        "How much we want to improve by\n",
        "\n",
        "Significance Level:\n",
        "Alpha value. \n",
        "\n",
        "Power:\n",
        "Probability of detecting an effect. We need enough power to conclude findings\n",
        "are statistically significant.\n",
        "\n",
        "Sample Size:\n",
        "'''"
      ],
      "execution_count": 0,
      "outputs": []
    },
    {
      "cell_type": "code",
      "metadata": {
        "id": "YuqlrbszW7Df",
        "colab_type": "code",
        "colab": {
          "base_uri": "https://localhost:8080/",
          "height": 34
        },
        "outputId": "532b4b84-36a1-40ee-ab60-444ff38e6564"
      },
      "source": [
        "# Power Analysis example with Conversion rates\n",
        "from statsmodels.stats.power import zt_ind_solve_power\n",
        "import statsmodels.stats.proportion as prop\n",
        "\n",
        "# conversion rate increase from 20% to 25% success\n",
        "std_effect = prop.proportion_effectsize(0.2, 0.25)\n",
        "\n",
        "zt_ind_solve_power(effect_size=std_effect,\n",
        "                   nobs1=None,\n",
        "                   alpha=0.05,\n",
        "                   power=0.8)\n",
        "\n",
        "# We need a sample size of 1092 "
      ],
      "execution_count": 56,
      "outputs": [
        {
          "output_type": "execute_result",
          "data": {
            "text/plain": [
              "1091.8961587171943"
            ]
          },
          "metadata": {
            "tags": []
          },
          "execution_count": 56
        }
      ]
    },
    {
      "cell_type": "code",
      "metadata": {
        "id": "j_WaHRVmYqLt",
        "colab_type": "code",
        "colab": {
          "base_uri": "https://localhost:8080/",
          "height": 34
        },
        "outputId": "090ab5d7-f763-4948-bc49-ba683d15a669"
      },
      "source": [
        "# Changing the power level\n",
        "# Standardize the effect size\n",
        "from statsmodels.stats.proportion import proportion_effectsize\n",
        "std_effect = proportion_effectsize(.20, .25)\n",
        "\n",
        "# Assign and print the needed sample size\n",
        "from statsmodels.stats.power import  zt_ind_solve_power\n",
        "sample_size = zt_ind_solve_power(effect_size=std_effect,\n",
        "                   nobs1=None,\n",
        "                   alpha=0.05,\n",
        "                   power=0.95)\n",
        "print(sample_size)"
      ],
      "execution_count": 57,
      "outputs": [
        {
          "output_type": "stream",
          "text": [
            "1807.7621477153257\n"
          ],
          "name": "stdout"
        }
      ]
    },
    {
      "cell_type": "code",
      "metadata": {
        "id": "cQ04B-UcaAtT",
        "colab_type": "code",
        "colab": {}
      },
      "source": [
        "'''\n",
        "Lowering the power allows for a smaller sample size\n",
        "'''"
      ],
      "execution_count": 0,
      "outputs": []
    },
    {
      "cell_type": "code",
      "metadata": {
        "id": "nxxYeEu7aSnL",
        "colab_type": "code",
        "colab": {
          "base_uri": "https://localhost:8080/",
          "height": 295
        },
        "outputId": "46e12fa8-8fa7-44c1-aa0c-f164e730d808"
      },
      "source": [
        "# relationship between power and sample size\n",
        "\n",
        "sample_sizes = np.array(range(5, 100))\n",
        "effect_sizes = np.array([0.2, 0.5, 0.8])\n",
        "\n",
        "# Create results object for t-test analysis\n",
        "from statsmodels.stats.power import TTestIndPower\n",
        "results = TTestIndPower()\n",
        "\n",
        "# Plot the power analysis\n",
        "results.plot_power(dep_var='nobs', nobs=(sample_sizes), effect_size=effect_sizes)\n",
        "plt.show()"
      ],
      "execution_count": 58,
      "outputs": [
        {
          "output_type": "display_data",
          "data": {
            "image/png": "[encoded data removed]",
            "text/plain": [
              "<Figure size 432x288 with 1 Axes>"
            ]
          },
          "metadata": {
            "tags": []
          }
        }
      ]
    },
    {
      "cell_type": "code",
      "metadata": {
        "id": "ty9PDuckcwIK",
        "colab_type": "code",
        "colab": {}
      },
      "source": [
        "'''\n",
        "Notice that not only does an increase in power result in a larger sample size, \n",
        "but this increase grows exponentially as the minimum effect size is increased.\n",
        "'''"
      ],
      "execution_count": 0,
      "outputs": []
    },
    {
      "cell_type": "code",
      "metadata": {
        "id": "O4GdRHbqdLtd",
        "colab_type": "code",
        "colab": {}
      },
      "source": [
        "# multiple testing\n",
        "'''\n",
        "Bonferroni Correction:\n",
        "Bonferroni corrected p-val = alpha / n, where n is number of tests performed\n",
        "\n",
        "If we have an alpha of 0.05 and run 10 tests, the significance we would need to\n",
        "achieve would be 0.005.\n",
        "\n",
        "If we have too many tests, the p-val will get really small. This means that we\n",
        "would require a huge power, which we might not always be able to detect.\n",
        "'''"
      ],
      "execution_count": 0,
      "outputs": []
    },
    {
      "cell_type": "code",
      "metadata": {
        "id": "OHKEWHNVfcVw",
        "colab_type": "code",
        "colab": {
          "base_uri": "https://localhost:8080/",
          "height": 102
        },
        "outputId": "eb584804-c36e-4635-c9c0-55d5b0d68ab0"
      },
      "source": [
        "# Print error rate for 60 tests with 5% significance\n",
        "\n",
        "print('error rate, alpha')\n",
        "\n",
        "error_rate = 1 - (1-0.05)**60\n",
        "print('60 tests:', error_rate)\n",
        "\n",
        "error_rate = 1 - (1-0.05)**30\n",
        "print('30 tests:', error_rate)\n",
        "\n",
        "error_rate = 1 - (1-0.05)**10\n",
        "print('10 tests:', error_rate)\n",
        "\n",
        "error_rate = 1 - (1-0.05)**1\n",
        "print('1 test:', error_rate)"
      ],
      "execution_count": 61,
      "outputs": [
        {
          "output_type": "stream",
          "text": [
            "error rate, alpha\n",
            "60 tests: 0.953930201013048\n",
            "30 tests: 0.7853612360570628\n",
            "10 tests: 0.4012630607616213\n",
            "1 test: 0.050000000000000044\n"
          ],
          "name": "stdout"
        }
      ]
    },
    {
      "cell_type": "code",
      "metadata": {
        "id": "MeYE_cl0gnGx",
        "colab_type": "code",
        "colab": {
          "base_uri": "https://localhost:8080/",
          "height": 51
        },
        "outputId": "6216a31e-3795-410e-eb0a-a6e0e0dc0f2e"
      },
      "source": [
        "from statsmodels.sandbox.stats.multicomp import multipletests\n",
        "pvals = [.01, .05, .10, .50, .99]\n",
        "\n",
        "# Create a list of the adjusted p-values\n",
        "p_adjusted = multipletests(pvals, alpha=0.05, method='bonferroni')\n",
        "\n",
        "# Print the resulting conclusions\n",
        "print(p_adjusted[0])\n",
        "\n",
        "# Print the adjusted p-values themselves \n",
        "print(p_adjusted[1])"
      ],
      "execution_count": 62,
      "outputs": [
        {
          "output_type": "stream",
          "text": [
            "[ True False False False False]\n",
            "[0.05 0.25 0.5  1.   1.  ]\n"
          ],
          "name": "stdout"
        }
      ]
    },
    {
      "cell_type": "code",
      "metadata": {
        "id": "ytOfMpGog0Gm",
        "colab_type": "code",
        "colab": {}
      },
      "source": [
        "'''\n",
        "the Bonferroni correction did it's job and corrected the family-wise error rate \n",
        "for our 5 hypothesis test results. In the end, only one of the tests remained \n",
        "signficant. \n",
        "'''"
      ],
      "execution_count": 0,
      "outputs": []
    },
    {
      "cell_type": "code",
      "metadata": {
        "id": "e8LedEw5hMcA",
        "colab_type": "code",
        "colab": {}
      },
      "source": [
        "# Regression Models\n",
        "'''\n",
        "Assumptions:\n",
        " - Linear relationship\n",
        " - Errors are notmally distributed\n",
        " - Homoscedastic: Uniform variance\n",
        " - Independent observations\n",
        "\n",
        "Linear regression:\n",
        "requires atleast one independent and one dependent variable.\n",
        "Y = mX + B + err\n",
        "Y: Dependent variable\n",
        "Xn: Independent variable(s)\n",
        "m: slope coeff\n",
        "B: Y intercept\n",
        "err: random error term\n",
        "\n",
        "\n",
        "Logistic Regression:\n",
        "For 2 class classification (0 or 1)\n",
        "sig(t) = 1 / (1 + e^-t). -> sigmoid function\n",
        "f(x) = 1 / (1 + e^-x)\n",
        "Produces discrete output -> useful for classification\n",
        "\n",
        "\n",
        "'''"
      ],
      "execution_count": 0,
      "outputs": []
    },
    {
      "cell_type": "code",
      "metadata": {
        "id": "k8KogKcSikkC",
        "colab_type": "code",
        "colab": {
          "base_uri": "https://localhost:8080/",
          "height": 282
        },
        "outputId": "80894afd-edf4-4f24-e981-43582af33ea8"
      },
      "source": [
        "# Linear Regression\n",
        "from sklearn import linear_model, datasets\n",
        "from sklearn.linear_model import LinearRegression \n",
        "\n",
        "n_samples = 1000\n",
        "n_outliers = 50\n",
        "\n",
        "\n",
        "X, y, coef = datasets.make_regression(n_samples=n_samples, n_features=1,\n",
        "                                      n_informative=1, noise=10,\n",
        "                                      coef=True, random_state=0)\n",
        "\n",
        "# Create and fit your linear regression model\n",
        "lm = LinearRegression()\n",
        "lm.fit(X, y)\n",
        "\n",
        "# Assign and print predictions\n",
        "preds = lm.predict(X)\n",
        "\n",
        "# Assign and print coefficient \n",
        "coef = lm.coef_\n",
        "print(coef)\n",
        "\n",
        "# Plot your fit to visualize your model\n",
        "plt.scatter(X, y)\n",
        "plt.plot(X, preds, color='red')\n",
        "plt.show()"
      ],
      "execution_count": 67,
      "outputs": [
        {
          "output_type": "stream",
          "text": [
            "[82.1313384]\n"
          ],
          "name": "stdout"
        },
        {
          "output_type": "display_data",
          "data": {
            "image/png": "[encoded data removed]",
            "text/plain": [
              "<Figure size 432x288 with 1 Axes>"
            ]
          },
          "metadata": {
            "tags": []
          }
        }
      ]
    },
    {
      "cell_type": "code",
      "metadata": {
        "id": "kXu8IsYv2gKZ",
        "colab_type": "code",
        "colab": {
          "base_uri": "https://localhost:8080/",
          "height": 68
        },
        "outputId": "fa4bf023-e980-44ea-d513-f007a041a6b1"
      },
      "source": [
        "# Logistic Regression\n",
        "from sklearn.linear_model import LogisticRegression\n",
        "\n",
        "X, y = datasets.make_classification(n_samples=100000, n_features=20,\n",
        "                                    n_informative=2, n_redundant=2)\n",
        "\n",
        "# Slice and reshape\n",
        "X = X[:, 0].reshape(-1, 1)\n",
        "\n",
        "train_samples = 10000  # Samples used for training the models\n",
        "\n",
        "X_train = X[:train_samples]\n",
        "X_test = X[train_samples:]\n",
        "y_train = y[:train_samples]\n",
        "y_test = y[train_samples:]\n",
        "\n",
        "print(X.shape)\n",
        "\n",
        "lr = LogisticRegression()\n",
        "lr.fit(X_train, y_train)\n",
        "\n",
        "preds = lr.predict(X)\n",
        "\n",
        "# Assign and print coefficient \n",
        "coef = lr.coef_\n",
        "print(coef)\n",
        "print('Score:', lr.score(X_test, y_test))\n"
      ],
      "execution_count": 92,
      "outputs": [
        {
          "output_type": "stream",
          "text": [
            "(100000, 1)\n",
            "[[2.48979767]]\n",
            "Score: 0.8654222222222222\n"
          ],
          "name": "stdout"
        }
      ]
    },
    {
      "cell_type": "code",
      "metadata": {
        "id": "My8DQWov8KWK",
        "colab_type": "code",
        "colab": {}
      },
      "source": [
        "# Evaluating Models\n",
        "'''\n",
        "Regression Techniques:\n",
        "\n",
        "R-Squared (coefficient of determination)\n",
        "Proportion of variance of the dependent variable that is explained by the\n",
        "regression model. This is what the .score method returns.\n",
        "\n",
        "Mean Absolute Error (MAE)\n",
        "Sum of the absolute residuals over the number of points.\n",
        "MAE = sum(R) / n\n",
        "error is linear\n",
        "\n",
        "Mean Squared Error (MSE)\n",
        "Sum of the residuals squared over the number of points.\n",
        "MAE = sum(R^2) / n\n",
        "error is exponential\n",
        "\n",
        "\n",
        "Notes:\n",
        " - Use MSE if there are outliers. These are penalized more heavily because of\n",
        "   the squared residual\n",
        "\n",
        "'''"
      ],
      "execution_count": 0,
      "outputs": []
    },
    {
      "cell_type": "code",
      "metadata": {
        "id": "AHWxVbIe_DDZ",
        "colab_type": "code",
        "colab": {}
      },
      "source": [
        "'''\n",
        "Classification techniques:\n",
        "\n",
        "Precision:\n",
        "precision = true pos / (true pos + false pos)\n",
        "Percentage of observations guessed correctly (Type 1 Error)\n",
        "\n",
        "Recall:\n",
        "recall = true positive / (true positive + False Negative)\n",
        "(Type 2 error)\n",
        "\n",
        "Types of errors: (Confusion matrix)\n",
        "\n",
        "                           Actual\n",
        "                     true         false\n",
        "                 __________________________\n",
        "          true   |   correct      Type 1\n",
        "Guessed          |\n",
        "          false  |   Type 2       correct\n",
        "\n",
        "\n",
        "                           Actual\n",
        "                     Preg         not Preg\n",
        "                 __________________________\n",
        "          Preg   |   correct      Type 1\n",
        "Guessed          |\n",
        "        not Preg |   Type 2       correct\n",
        "\n",
        "\n",
        "                           Actual\n",
        "                     spam         not spam\n",
        "                 __________________________\n",
        "          spam   |   correct      Type 1\n",
        "Guessed          |\n",
        "        not spam |   Type 2       correct\n",
        "\n",
        "\n",
        "                             Actual\n",
        "                     disease         not disease\n",
        "                    __________________________\n",
        "          disease   |   correct      Type 1\n",
        "Guessed             |\n",
        "        not disease |   Type 2       correct\n",
        "\n",
        "Type 1: False Positive (measured true, actually false) -> rejection of a true null hypothesis\n",
        "Type 2: False Negative (measured false, actually true) -> non-rejection of a false null hypothesis\n",
        "\n",
        "Type 1 Optimial\n",
        "Spam detector: Minimize the number of type 1 errors., \n",
        "i.e., listing good email as bad is more hurtful than bad emails as good\n",
        "\n",
        "Type 2 Optimial\n",
        "Disease detector: Minimize the number of type 2 errors., \n",
        "i.e., Saying that you don't have a disease is more hurtful than saying you have\n",
        "one. Treatment foregone.\n",
        "'''"
      ],
      "execution_count": 0,
      "outputs": []
    },
    {
      "cell_type": "code",
      "metadata": {
        "id": "nq3mWnhJDZtn",
        "colab_type": "code",
        "colab": {
          "base_uri": "https://localhost:8080/",
          "height": 68
        },
        "outputId": "4efff475-ed67-4a81-9c2d-720ed20bc727"
      },
      "source": [
        "# Regression Evaluation\n",
        "from sklearn import linear_model, datasets\n",
        "from sklearn.linear_model import LinearRegression \n",
        "\n",
        "n_samples = 1000\n",
        "n_outliers = 50\n",
        "\n",
        "\n",
        "X, y, coef = datasets.make_regression(n_samples=n_samples, n_features=1,\n",
        "                                      n_informative=1, noise=10,\n",
        "                                      coef=True, random_state=0)\n",
        "\n",
        "# R-squared score\n",
        "r2 = lm.score(X, y)\n",
        "print(r2)\n",
        "\n",
        "# Mean squared error\n",
        "from sklearn.metrics import mean_squared_error\n",
        "preds = lm.predict(X)\n",
        "mse = mean_squared_error(y, preds)\n",
        "print(mse)\n",
        "\n",
        "# Mean absolute error\n",
        "from sklearn.metrics import mean_absolute_error\n",
        "preds = lm.predict(X)\n",
        "mae = mean_absolute_error(y, preds)\n",
        "print(mae)"
      ],
      "execution_count": 93,
      "outputs": [
        {
          "output_type": "stream",
          "text": [
            "0.9852415851966926\n",
            "98.44150934895976\n",
            "7.875923810091954\n"
          ],
          "name": "stdout"
        }
      ]
    },
    {
      "cell_type": "code",
      "metadata": {
        "id": "jHpZxP3LD05V",
        "colab_type": "code",
        "colab": {
          "base_uri": "https://localhost:8080/",
          "height": 85
        },
        "outputId": "f140d081-9330-45a8-ad5a-2f26c203df3d"
      },
      "source": [
        "# Classification Evaluation\n",
        "from sklearn.linear_model import LogisticRegression\n",
        "\n",
        "X, y = datasets.make_classification(n_samples=100000, n_features=20,\n",
        "                                    n_informative=2, n_redundant=2,\n",
        "                                    random_state=1)\n",
        "\n",
        "# Slice and reshape\n",
        "X = X[:, 0].reshape(-1, 1)\n",
        "\n",
        "train_samples = 10000  # Samples used for training the models\n",
        "\n",
        "X_train = X[:train_samples]\n",
        "X_test = X[train_samples:]\n",
        "y_train = y[:train_samples]\n",
        "y_test = y[train_samples:]\n",
        "\n",
        "# Generate and output the confusion matrix\n",
        "from sklearn.metrics import confusion_matrix\n",
        "lr = LogisticRegression()\n",
        "lr.fit(X_train, y_train)\n",
        "\n",
        "preds = lr.predict(X_test)\n",
        "matrix = confusion_matrix(y_test, preds)\n",
        "print(matrix)\n",
        "\n",
        "# Compute and print the precision\n",
        "from sklearn.metrics import precision_score\n",
        "precision = precision_score(y_test, preds)\n",
        "print(precision)\n",
        "\n",
        "# Compute and print the recall\n",
        "from sklearn.metrics import recall_score\n",
        "recall = recall_score(y_test, preds)\n",
        "print(recall)\n"
      ],
      "execution_count": 102,
      "outputs": [
        {
          "output_type": "stream",
          "text": [
            "[[   32 45030]\n",
            " [  683 44255]]\n",
            "0.4956599652797222\n",
            "0.9848012817659887\n"
          ],
          "name": "stdout"
        }
      ]
    },
    {
      "cell_type": "code",
      "metadata": {
        "id": "5kN6YK3xFg6d",
        "colab_type": "code",
        "colab": {}
      },
      "source": [
        "# Missing Data and Outliers\n",
        "'''\n",
        "Standard Deviations\n",
        "Outlier is classified as a point that is 3 stds or more from mean.\n",
        "\n",
        "Inter-Quartile Range (IQR)\n",
        "IQR = Q1 - Q3 = 50% of points about the median (middle value)\n",
        "Ex: 7, 9, 9, 10, 10, 10, 11, 12, 12, 14\n",
        "Middle 2 numbers = 10, 10 -> median = 10 + 10 / 2 = 10\n",
        "            median = 10\n",
        "7, 9, 9, 10, 10,     10, 11, 12, 12, 14\n",
        "  median 9                  median 12\n",
        "\n",
        "IQR = 12 - 9 = 3 \n",
        "\n",
        "Outlier = Q1 - 1.5*IQR, Q3 + 1.5*IQR\n",
        "'''"
      ],
      "execution_count": 0,
      "outputs": []
    },
    {
      "cell_type": "code",
      "metadata": {
        "id": "VLfEn88IK2tg",
        "colab_type": "code",
        "colab": {}
      },
      "source": [
        "# Bias-Variance Tradeoff\n",
        "'''\n",
        "Bias\n",
        "Makes algorithms more generalized, faster, less accurate\n",
        "Too much bias leads to underfitting.\n",
        "Ex: linear reg, logistic reg, etc.\n",
        "\n",
        "Variance\n",
        "Fits to the training data too tightly. Leads to overfitting. Is poor\n",
        "when making observations on new data.\n",
        "Ex: decision trees, kNN, SVMs\n",
        "\n",
        "Goals\n",
        " - Optimize for error achieving good bias and variance\n",
        " - There is some optimal model complexity\n",
        "\n",
        "'''"
      ],
      "execution_count": 0,
      "outputs": []
    },
    {
      "cell_type": "code",
      "metadata": {
        "id": "c9L-eWvBRzou",
        "colab_type": "code",
        "colab": {}
      },
      "source": [
        ""
      ],
      "execution_count": 0,
      "outputs": []
    }
  ]
}